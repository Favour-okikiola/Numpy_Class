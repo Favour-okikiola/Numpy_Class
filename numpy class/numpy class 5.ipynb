{
 "cells": [
  {
   "cell_type": "code",
   "execution_count": 1,
   "id": "f548ada7",
   "metadata": {},
   "outputs": [],
   "source": [
    "import numpy as np"
   ]
  },
  {
   "cell_type": "code",
   "execution_count": 4,
   "id": "536e3c5f",
   "metadata": {},
   "outputs": [],
   "source": [
    "# x = np.array([1,2,3])\n",
    "# x"
   ]
  },
  {
   "cell_type": "markdown",
   "id": "b09b23af",
   "metadata": {},
   "source": [
    "# Sorting Array"
   ]
  },
  {
   "cell_type": "code",
   "execution_count": 7,
   "id": "a800c7d4",
   "metadata": {},
   "outputs": [
    {
     "data": {
      "text/plain": [
       "array([1, 2, 3, 4, 5])"
      ]
     },
     "execution_count": 7,
     "metadata": {},
     "output_type": "execute_result"
    }
   ],
   "source": [
    "x = np.array([2,1,4,3,5], dtype=int)\n",
    "x.sort()\n",
    "x"
   ]
  },
  {
   "cell_type": "code",
   "execution_count": 8,
   "id": "82f1a1fb",
   "metadata": {},
   "outputs": [
    {
     "data": {
      "text/plain": [
       "array([1, 2, 3, 4, 5])"
      ]
     },
     "execution_count": 8,
     "metadata": {},
     "output_type": "execute_result"
    }
   ],
   "source": [
    "np.sort(x)"
   ]
  },
  {
   "cell_type": "code",
   "execution_count": 9,
   "id": "fb4334bc",
   "metadata": {},
   "outputs": [
    {
     "name": "stdout",
     "output_type": "stream",
     "text": [
      "[1 0 3 2 4]\n"
     ]
    }
   ],
   "source": [
    "# np.argsort function return the indices of the sorted elements\n",
    "f = np.array([2,1,4,3,5], dtype=int)\n",
    "i = np.argsort(f)\n",
    "print(i)\n",
    "\n",
    "# NB: arg always return the index... be it argmax or argmin aor argsort etc."
   ]
  },
  {
   "cell_type": "code",
   "execution_count": 10,
   "id": "5b789eaa",
   "metadata": {},
   "outputs": [
    {
     "data": {
      "text/plain": [
       "array([1, 2, 3, 4, 5])"
      ]
     },
     "execution_count": 10,
     "metadata": {},
     "output_type": "execute_result"
    }
   ],
   "source": [
    "# the indices can then be use as fancy index to get the sorted array\n",
    "f[i]"
   ]
  },
  {
   "cell_type": "markdown",
   "id": "67431f4b",
   "metadata": {},
   "source": [
    " # Sorting along row and column"
   ]
  },
  {
   "cell_type": "code",
   "execution_count": 13,
   "id": "2b745a86",
   "metadata": {},
   "outputs": [
    {
     "data": {
      "text/plain": [
       "array([[7, 5, 3, 8, 3, 6],\n",
       "       [1, 9, 0, 2, 5, 6],\n",
       "       [5, 5, 5, 1, 6, 2],\n",
       "       [6, 4, 4, 4, 7, 8]])"
      ]
     },
     "execution_count": 13,
     "metadata": {},
     "output_type": "execute_result"
    }
   ],
   "source": [
    "x = np.random.randint(0,10, (4,6))\n",
    "x"
   ]
  },
  {
   "cell_type": "code",
   "execution_count": 14,
   "id": "63e3b709",
   "metadata": {},
   "outputs": [
    {
     "data": {
      "text/plain": [
       "array([[1, 4, 0, 1, 3, 2],\n",
       "       [5, 5, 3, 2, 5, 6],\n",
       "       [6, 5, 4, 4, 6, 6],\n",
       "       [7, 9, 5, 8, 7, 8]])"
      ]
     },
     "execution_count": 14,
     "metadata": {},
     "output_type": "execute_result"
    }
   ],
   "source": [
    "#sorting each column of x\n",
    "np.sort(x, axis=0)"
   ]
  },
  {
   "cell_type": "code",
   "execution_count": 15,
   "id": "4e088ba6",
   "metadata": {},
   "outputs": [
    {
     "data": {
      "text/plain": [
       "array([[3, 3, 5, 6, 7, 8],\n",
       "       [0, 1, 2, 5, 6, 9],\n",
       "       [1, 2, 5, 5, 5, 6],\n",
       "       [4, 4, 4, 6, 7, 8]])"
      ]
     },
     "execution_count": 15,
     "metadata": {},
     "output_type": "execute_result"
    }
   ],
   "source": [
    "#sorting each row of x\n",
    "np.sort(x, axis=1)"
   ]
  },
  {
   "cell_type": "markdown",
   "id": "849d80be",
   "metadata": {},
   "source": [
    "partial sorting : partitioning"
   ]
  },
  {
   "cell_type": "code",
   "execution_count": 16,
   "id": "9f0a6ec4",
   "metadata": {},
   "outputs": [
    {
     "data": {
      "text/plain": [
       "array([2, 1, 3, 4, 6, 5, 7])"
      ]
     },
     "execution_count": 16,
     "metadata": {},
     "output_type": "execute_result"
    }
   ],
   "source": [
    "y = np.array([7,2,3,1,6,5,4])\n",
    "\n",
    "# give us the three smallest value in the array\n",
    "np.partition(y,3)\n",
    "\n",
    "# it will return it in no particular order \"2,1,3\""
   ]
  },
  {
   "cell_type": "code",
   "execution_count": 17,
   "id": "fa59bad5",
   "metadata": {},
   "outputs": [
    {
     "data": {
      "text/plain": [
       "array([2, 1, 3, 4, 5, 6, 7])"
      ]
     },
     "execution_count": 17,
     "metadata": {},
     "output_type": "execute_result"
    }
   ],
   "source": [
    "y = np.array([7,2,3,1,6,5,4])\n",
    "\n",
    "# give us the four smallest value in the array\n",
    "np.partition(y,4)"
   ]
  },
  {
   "cell_type": "code",
   "execution_count": 18,
   "id": "d19a2b05",
   "metadata": {},
   "outputs": [
    {
     "data": {
      "text/plain": [
       "array([[3, 3, 5, 8, 7, 6],\n",
       "       [0, 1, 2, 9, 5, 6],\n",
       "       [1, 2, 5, 5, 6, 5],\n",
       "       [4, 4, 4, 6, 7, 8]])"
      ]
     },
     "execution_count": 18,
     "metadata": {},
     "output_type": "execute_result"
    }
   ],
   "source": [
    "# give us the first two smallest value of each row in the array\n",
    "np.partition(x, 2, axis=1)"
   ]
  },
  {
   "cell_type": "code",
   "execution_count": 22,
   "id": "75fbddee",
   "metadata": {},
   "outputs": [
    {
     "data": {
      "text/plain": [
       "['sunday',\n",
       " 'adeola',\n",
       " 'charles',\n",
       " 'promise',\n",
       " 'moses',\n",
       " 'thomeson',\n",
       " 'nana',\n",
       " 'bosede']"
      ]
     },
     "execution_count": 22,
     "metadata": {},
     "output_type": "execute_result"
    }
   ],
   "source": [
    "# we can also partition on array of strings \n",
    "name = ['sunday', 'adeola', 'charles', 'promise', 'moses', 'thomeson', 'nana', 'bosede']\n",
    "name"
   ]
  },
  {
   "cell_type": "code",
   "execution_count": 23,
   "id": "86224d3f",
   "metadata": {},
   "outputs": [
    {
     "data": {
      "text/plain": [
       "array(['adeola', 'bosede', 'charles', 'moses', 'nana', 'promise',\n",
       "       'sunday', 'thomeson'], dtype='<U8')"
      ]
     },
     "execution_count": 23,
     "metadata": {},
     "output_type": "execute_result"
    }
   ],
   "source": [
    "# give us the first three names in their alphabetical order\n",
    "np.partition(name, 3)"
   ]
  },
  {
   "cell_type": "markdown",
   "id": "cba83bc6",
   "metadata": {},
   "source": [
    "# Numpy's Structured Arrays"
   ]
  },
  {
   "cell_type": "code",
   "execution_count": 25,
   "id": "c809e085",
   "metadata": {},
   "outputs": [
    {
     "name": "stdout",
     "output_type": "stream",
     "text": [
      "[[('Sunday', 22, 56., 'js1') ('Charse', 34, 67., 'ss2')\n",
      "  ('Mary', 36, 65., 'ss3')]]\n"
     ]
    }
   ],
   "source": [
    "npdata = [('Sunday', 22, 56, 'js1'), ('Charse', 34, 67,'ss2'), ('Mary', 36, 65, 'ss3')]\n",
    "\n",
    "npdtype = [('Name', np.str_, 10), ('Age', np.int16), ('Score', np.float64), ('Class', np.str_, 4)]\n",
    "\n",
    "\n",
    "# ('Name', np.str_, 10) is the properties of 'sunday'.... the 10 rep that the name must not be more than 10\n",
    "# ('Age', np.int16) is the properties of 22\n",
    "# ('Score', np.float64) is the properties of 56\n",
    "# ('Class', np.str_, 4) is the properties of 'js1'\n",
    "# same thing applied to others\n",
    "\n",
    "\n",
    "student_record = np.array([npdata], dtype=npdtype)\n",
    "\n",
    "print(student_record)"
   ]
  },
  {
   "cell_type": "code",
   "execution_count": 26,
   "id": "f0c69728",
   "metadata": {},
   "outputs": [
    {
     "data": {
      "text/plain": [
       "array([['Sunday', 'Charse', 'Mary']], dtype='<U10')"
      ]
     },
     "execution_count": 26,
     "metadata": {},
     "output_type": "execute_result"
    }
   ],
   "source": [
    "student_record['Name']\n"
   ]
  },
  {
   "cell_type": "code",
   "execution_count": 27,
   "id": "16b47885",
   "metadata": {},
   "outputs": [
    {
     "data": {
      "text/plain": [
       "array([[('Sunday', 22, 56., 'js1'), ('Charse', 34, 67., 'ss2'),\n",
       "        ('Mary', 36, 65., 'ss3')]],\n",
       "      dtype=[('Name', '<U10'), ('Age', '<i2'), ('Score', '<f8'), ('Class', '<U4')])"
      ]
     },
     "execution_count": 27,
     "metadata": {},
     "output_type": "execute_result"
    }
   ],
   "source": [
    "student_record[:1]\n"
   ]
  },
  {
   "cell_type": "code",
   "execution_count": 28,
   "id": "13f2e69b",
   "metadata": {},
   "outputs": [
    {
     "data": {
      "text/plain": [
       "array([[('Charse', 34, 67., 'ss2'), ('Mary', 36, 65., 'ss3'),\n",
       "        ('Sunday', 22, 56., 'js1')]],\n",
       "      dtype=[('Name', '<U10'), ('Age', '<i2'), ('Score', '<f8'), ('Class', '<U4')])"
      ]
     },
     "execution_count": 28,
     "metadata": {},
     "output_type": "execute_result"
    }
   ],
   "source": [
    "np.sort(student_record, order=['Name','Score'])\n"
   ]
  },
  {
   "cell_type": "code",
   "execution_count": null,
   "id": "61f69f53",
   "metadata": {},
   "outputs": [],
   "source": []
  },
  {
   "cell_type": "code",
   "execution_count": null,
   "id": "235bbea7",
   "metadata": {},
   "outputs": [],
   "source": []
  },
  {
   "cell_type": "code",
   "execution_count": null,
   "id": "1d1c279a",
   "metadata": {},
   "outputs": [],
   "source": []
  },
  {
   "cell_type": "code",
   "execution_count": null,
   "id": "fe296191",
   "metadata": {},
   "outputs": [],
   "source": []
  },
  {
   "cell_type": "code",
   "execution_count": null,
   "id": "6c611c6a",
   "metadata": {},
   "outputs": [],
   "source": []
  },
  {
   "cell_type": "code",
   "execution_count": null,
   "id": "33c1883f",
   "metadata": {},
   "outputs": [],
   "source": []
  },
  {
   "cell_type": "code",
   "execution_count": null,
   "id": "cfb3f2e0",
   "metadata": {},
   "outputs": [],
   "source": []
  }
 ],
 "metadata": {
  "kernelspec": {
   "display_name": "Python 3 (ipykernel)",
   "language": "python",
   "name": "python3"
  },
  "language_info": {
   "codemirror_mode": {
    "name": "ipython",
    "version": 3
   },
   "file_extension": ".py",
   "mimetype": "text/x-python",
   "name": "python",
   "nbconvert_exporter": "python",
   "pygments_lexer": "ipython3",
   "version": "3.11.5"
  }
 },
 "nbformat": 4,
 "nbformat_minor": 5
}
