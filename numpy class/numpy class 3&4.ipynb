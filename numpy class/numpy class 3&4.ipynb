{
 "cells": [
  {
   "cell_type": "code",
   "execution_count": 1,
   "id": "98ec93b4",
   "metadata": {},
   "outputs": [],
   "source": [
    "import numpy as np"
   ]
  },
  {
   "cell_type": "code",
   "execution_count": 3,
   "id": "31f9e8fc",
   "metadata": {},
   "outputs": [
    {
     "data": {
      "text/plain": [
       "array([0, 0, 0, 1, 0, 1, 0, 1, 1, 1, 0, 1, 0, 0, 1, 1, 0, 0, 1, 1, 0, 0,\n",
       "       1, 1, 0, 0, 0, 1, 0, 0, 1, 1, 0, 1, 0, 0, 1, 1, 0, 1, 0, 0, 1, 0,\n",
       "       1, 1, 1, 1, 1, 0])"
      ]
     },
     "execution_count": 3,
     "metadata": {},
     "output_type": "execute_result"
    }
   ],
   "source": [
    "# vector = np.random.randint(0,2,(50))\n",
    "# vector"
   ]
  },
  {
   "cell_type": "markdown",
   "id": "c30b7257",
   "metadata": {},
   "source": [
    "How to compute aggregate on data"
   ]
  },
  {
   "cell_type": "code",
   "execution_count": 5,
   "id": "3d8879e0",
   "metadata": {},
   "outputs": [
    {
     "data": {
      "text/plain": [
       "array([1, 2, 3, 4, 5])"
      ]
     },
     "execution_count": 5,
     "metadata": {},
     "output_type": "execute_result"
    }
   ],
   "source": [
    "# generate array of five values\n",
    "\n",
    "xv = np.arange(1,6)\n",
    "xv"
   ]
  },
  {
   "cell_type": "code",
   "execution_count": 6,
   "id": "e43a4e0e",
   "metadata": {},
   "outputs": [
    {
     "data": {
      "text/plain": [
       "5"
      ]
     },
     "execution_count": 6,
     "metadata": {},
     "output_type": "execute_result"
    }
   ],
   "source": [
    "# returning the max of the array\n",
    "np.max(xv)"
   ]
  },
  {
   "cell_type": "code",
   "execution_count": 7,
   "id": "264d31b3",
   "metadata": {},
   "outputs": [
    {
     "data": {
      "text/plain": [
       "1"
      ]
     },
     "execution_count": 7,
     "metadata": {},
     "output_type": "execute_result"
    }
   ],
   "source": [
    "# returning the min of the array\n",
    "np.min(xv)"
   ]
  },
  {
   "cell_type": "code",
   "execution_count": 8,
   "id": "12ea309c",
   "metadata": {},
   "outputs": [
    {
     "data": {
      "text/plain": [
       "15"
      ]
     },
     "execution_count": 8,
     "metadata": {},
     "output_type": "execute_result"
    }
   ],
   "source": [
    "# returning the sum of the array\n",
    "np.add.reduce(xv)\n",
    "# we are using .reduce so that it can iterate through it."
   ]
  },
  {
   "cell_type": "code",
   "execution_count": 9,
   "id": "d3d4e2c2",
   "metadata": {},
   "outputs": [
    {
     "data": {
      "text/plain": [
       "120"
      ]
     },
     "execution_count": 9,
     "metadata": {},
     "output_type": "execute_result"
    }
   ],
   "source": [
    "# returning the product of the array\n",
    "np. multiply.reduce(xv)"
   ]
  },
  {
   "cell_type": "code",
   "execution_count": 10,
   "id": "a771d5c9",
   "metadata": {},
   "outputs": [
    {
     "data": {
      "text/plain": [
       "array([ 1,  3,  6, 10, 15])"
      ]
     },
     "execution_count": 10,
     "metadata": {},
     "output_type": "execute_result"
    }
   ],
   "source": [
    "# returning the array of addition of intermediate result of the computation\n",
    "np.add.accumulate(xv)"
   ]
  },
  {
   "cell_type": "code",
   "execution_count": 11,
   "id": "689286f8",
   "metadata": {},
   "outputs": [
    {
     "data": {
      "text/plain": [
       "array([  1,   2,   6,  24, 120])"
      ]
     },
     "execution_count": 11,
     "metadata": {},
     "output_type": "execute_result"
    }
   ],
   "source": [
    "# returning the array of multiply of intermediate result of the computation\n",
    "np.multiply .accumulate(xv)"
   ]
  },
  {
   "cell_type": "code",
   "execution_count": 12,
   "id": "f4bbb4f0",
   "metadata": {},
   "outputs": [
    {
     "data": {
      "text/plain": [
       "array([ 1,  3,  6, 10, 15])"
      ]
     },
     "execution_count": 12,
     "metadata": {},
     "output_type": "execute_result"
    }
   ],
   "source": [
    "# cummulative sum is also np.add.accumulate\n",
    "np.cumsum(xv)"
   ]
  },
  {
   "cell_type": "code",
   "execution_count": 13,
   "id": "a8366c04",
   "metadata": {},
   "outputs": [],
   "source": [
    "# np.sum() == np.add.reduce()\n",
    "# np.prod() == np.multiply.accumulate() \n",
    "# np.cumprod == np.multiply.reduce()"
   ]
  },
  {
   "cell_type": "code",
   "execution_count": 15,
   "id": "cce4589d",
   "metadata": {},
   "outputs": [
    {
     "data": {
      "text/plain": [
       "array([ 1,  2,  3,  4,  5,  6,  7,  8,  9, 10, 11, 12])"
      ]
     },
     "execution_count": 15,
     "metadata": {},
     "output_type": "execute_result"
    }
   ],
   "source": [
    "# using the 'outer'\n",
    "cd = np.arange(1,13)\n",
    "cd\n"
   ]
  },
  {
   "cell_type": "code",
   "execution_count": 16,
   "id": "9fc7dd31",
   "metadata": {},
   "outputs": [
    {
     "data": {
      "text/plain": [
       "array([[  1,   2,   3,   4,   5,   6,   7,   8,   9,  10,  11,  12],\n",
       "       [  2,   4,   6,   8,  10,  12,  14,  16,  18,  20,  22,  24],\n",
       "       [  3,   6,   9,  12,  15,  18,  21,  24,  27,  30,  33,  36],\n",
       "       [  4,   8,  12,  16,  20,  24,  28,  32,  36,  40,  44,  48],\n",
       "       [  5,  10,  15,  20,  25,  30,  35,  40,  45,  50,  55,  60],\n",
       "       [  6,  12,  18,  24,  30,  36,  42,  48,  54,  60,  66,  72],\n",
       "       [  7,  14,  21,  28,  35,  42,  49,  56,  63,  70,  77,  84],\n",
       "       [  8,  16,  24,  32,  40,  48,  56,  64,  72,  80,  88,  96],\n",
       "       [  9,  18,  27,  36,  45,  54,  63,  72,  81,  90,  99, 108],\n",
       "       [ 10,  20,  30,  40,  50,  60,  70,  80,  90, 100, 110, 120],\n",
       "       [ 11,  22,  33,  44,  55,  66,  77,  88,  99, 110, 121, 132],\n",
       "       [ 12,  24,  36,  48,  60,  72,  84,  96, 108, 120, 132, 144]])"
      ]
     },
     "execution_count": 16,
     "metadata": {},
     "output_type": "execute_result"
    }
   ],
   "source": [
    "np.multiply.outer(cd,cd)"
   ]
  },
  {
   "cell_type": "markdown",
   "id": "df37508f",
   "metadata": {},
   "source": [
    "aggregate of 2d array"
   ]
  },
  {
   "cell_type": "code",
   "execution_count": 17,
   "id": "4f3ac3a0",
   "metadata": {},
   "outputs": [
    {
     "data": {
      "text/plain": [
       "array([[0.31039932, 0.9112081 , 0.2804643 , 0.65797108],\n",
       "       [0.86648272, 0.08337459, 0.77958171, 0.44444643],\n",
       "       [0.87791739, 0.51243918, 0.00578435, 0.59240134]])"
      ]
     },
     "execution_count": 17,
     "metadata": {},
     "output_type": "execute_result"
    }
   ],
   "source": [
    "m = np.random.random((3,4))\n",
    "m"
   ]
  },
  {
   "cell_type": "code",
   "execution_count": 18,
   "id": "90f03d51",
   "metadata": {},
   "outputs": [
    {
     "data": {
      "text/plain": [
       "6.322470511734128"
      ]
     },
     "execution_count": 18,
     "metadata": {},
     "output_type": "execute_result"
    }
   ],
   "source": [
    "# when it 2d, u \n",
    "m.sum()"
   ]
  },
  {
   "cell_type": "code",
   "execution_count": 21,
   "id": "5f4a50e0",
   "metadata": {},
   "outputs": [
    {
     "data": {
      "text/plain": [
       "array([2.1600428 , 2.17388546, 1.98854225])"
      ]
     },
     "execution_count": 21,
     "metadata": {},
     "output_type": "execute_result"
    }
   ],
   "source": [
    "np.sum(m, axis=1)  #along column "
   ]
  },
  {
   "cell_type": "code",
   "execution_count": 29,
   "id": "40810c11",
   "metadata": {},
   "outputs": [
    {
     "data": {
      "text/plain": [
       "array([2.05479943, 1.50702187, 1.06583037, 1.69481884])"
      ]
     },
     "execution_count": 29,
     "metadata": {},
     "output_type": "execute_result"
    }
   ],
   "source": [
    "np.sum(m, axis=0) #along row\n"
   ]
  },
  {
   "cell_type": "code",
   "execution_count": 23,
   "id": "c98756a2",
   "metadata": {},
   "outputs": [
    {
     "data": {
      "text/plain": [
       "0.2964269939259117"
      ]
     },
     "execution_count": 23,
     "metadata": {},
     "output_type": "execute_result"
    }
   ],
   "source": [
    "# returning standard deviation of all the element of the array\n",
    "np.std(m)"
   ]
  },
  {
   "cell_type": "code",
   "execution_count": 24,
   "id": "df5e79b5",
   "metadata": {},
   "outputs": [
    {
     "data": {
      "text/plain": [
       "0.5268725426445107"
      ]
     },
     "execution_count": 24,
     "metadata": {},
     "output_type": "execute_result"
    }
   ],
   "source": [
    "# returning mean of all the element of the array\n",
    "np.mean(m)"
   ]
  },
  {
   "cell_type": "code",
   "execution_count": 30,
   "id": "95ed809e",
   "metadata": {},
   "outputs": [
    {
     "data": {
      "text/plain": [
       "0.5524202587959672"
      ]
     },
     "execution_count": 30,
     "metadata": {},
     "output_type": "execute_result"
    }
   ],
   "source": [
    "# returning median of all the element of the array\n",
    "np.median(m)"
   ]
  },
  {
   "cell_type": "code",
   "execution_count": 32,
   "id": "295c5364",
   "metadata": {},
   "outputs": [
    {
     "name": "stdout",
     "output_type": "stream",
     "text": [
      "25 percentile value:  0.3029155673775781\n",
      "50 percentile value:  0.5524202587959672\n",
      "75 percentile value:  0.8013069668592419\n"
     ]
    }
   ],
   "source": [
    "# returning the percentile\n",
    "print('25 percentile value: ', np.percentile(m,25))\n",
    "print('50 percentile value: ', np.percentile(m,50))\n",
    "print('75 percentile value: ', np.percentile(m,75))"
   ]
  },
  {
   "cell_type": "code",
   "execution_count": 33,
   "id": "3f7e6616",
   "metadata": {},
   "outputs": [
    {
     "data": {
      "text/plain": [
       "array([ 1.,  2.,  3., nan,  5.,  6., nan,  7.,  8.])"
      ]
     },
     "execution_count": 33,
     "metadata": {},
     "output_type": "execute_result"
    }
   ],
   "source": [
    "ms = np.array([1,2,3,np.nan,5,6,np.nan,7,8])\n",
    "ms"
   ]
  },
  {
   "cell_type": "code",
   "execution_count": 34,
   "id": "2459a9e4",
   "metadata": {},
   "outputs": [
    {
     "data": {
      "text/plain": [
       "nan"
      ]
     },
     "execution_count": 34,
     "metadata": {},
     "output_type": "execute_result"
    }
   ],
   "source": [
    "np.sum(ms)"
   ]
  },
  {
   "cell_type": "code",
   "execution_count": 36,
   "id": "e99f6558",
   "metadata": {},
   "outputs": [
    {
     "name": "stdout",
     "output_type": "stream",
     "text": [
      "sum: 32.0\n",
      "product: 10080.0\n"
     ]
    }
   ],
   "source": [
    "# np has an inbuilt functions for working with nan data\n",
    "print(\"sum:\", np.nansum(ms))\n",
    "print(\"product:\", np.nanprod(ms))"
   ]
  },
  {
   "cell_type": "code",
   "execution_count": 37,
   "id": "43b08138",
   "metadata": {},
   "outputs": [
    {
     "name": "stdout",
     "output_type": "stream",
     "text": [
      "mean: 4.571428571428571\n",
      "variance: 5.959183673469389\n",
      "standard dev: 2.4411439272335804\n"
     ]
    }
   ],
   "source": [
    "print(\"mean:\", np.nanmean(ms))\n",
    "print(\"variance:\", np.nanvar(ms))\n",
    "print(\"standard dev:\", np.nanstd(ms))\n",
    "\n"
   ]
  },
  {
   "cell_type": "markdown",
   "id": "dac06934",
   "metadata": {},
   "source": [
    "Computataion using the avarage height of us president"
   ]
  },
  {
   "cell_type": "code",
   "execution_count": 39,
   "id": "5be9cbd6",
   "metadata": {},
   "outputs": [
    {
     "data": {
      "text/html": [
       "<div>\n",
       "<style scoped>\n",
       "    .dataframe tbody tr th:only-of-type {\n",
       "        vertical-align: middle;\n",
       "    }\n",
       "\n",
       "    .dataframe tbody tr th {\n",
       "        vertical-align: top;\n",
       "    }\n",
       "\n",
       "    .dataframe thead th {\n",
       "        text-align: right;\n",
       "    }\n",
       "</style>\n",
       "<table border=\"1\" class=\"dataframe\">\n",
       "  <thead>\n",
       "    <tr style=\"text-align: right;\">\n",
       "      <th></th>\n",
       "      <th>order</th>\n",
       "      <th>name</th>\n",
       "      <th>height(cm)</th>\n",
       "    </tr>\n",
       "  </thead>\n",
       "  <tbody>\n",
       "    <tr>\n",
       "      <th>0</th>\n",
       "      <td>1</td>\n",
       "      <td>George Washington</td>\n",
       "      <td>189</td>\n",
       "    </tr>\n",
       "    <tr>\n",
       "      <th>1</th>\n",
       "      <td>2</td>\n",
       "      <td>John Adams</td>\n",
       "      <td>170</td>\n",
       "    </tr>\n",
       "    <tr>\n",
       "      <th>2</th>\n",
       "      <td>3</td>\n",
       "      <td>Thomas Jefferson</td>\n",
       "      <td>189</td>\n",
       "    </tr>\n",
       "    <tr>\n",
       "      <th>3</th>\n",
       "      <td>4</td>\n",
       "      <td>James Madison</td>\n",
       "      <td>163</td>\n",
       "    </tr>\n",
       "    <tr>\n",
       "      <th>4</th>\n",
       "      <td>5</td>\n",
       "      <td>James Monroe</td>\n",
       "      <td>183</td>\n",
       "    </tr>\n",
       "    <tr>\n",
       "      <th>5</th>\n",
       "      <td>6</td>\n",
       "      <td>John Quincy Adams</td>\n",
       "      <td>171</td>\n",
       "    </tr>\n",
       "    <tr>\n",
       "      <th>6</th>\n",
       "      <td>7</td>\n",
       "      <td>Andrew Jackson</td>\n",
       "      <td>185</td>\n",
       "    </tr>\n",
       "    <tr>\n",
       "      <th>7</th>\n",
       "      <td>8</td>\n",
       "      <td>Martin Van Buren</td>\n",
       "      <td>168</td>\n",
       "    </tr>\n",
       "    <tr>\n",
       "      <th>8</th>\n",
       "      <td>9</td>\n",
       "      <td>William Henry Harrison</td>\n",
       "      <td>173</td>\n",
       "    </tr>\n",
       "    <tr>\n",
       "      <th>9</th>\n",
       "      <td>10</td>\n",
       "      <td>John Tyler</td>\n",
       "      <td>183</td>\n",
       "    </tr>\n",
       "    <tr>\n",
       "      <th>10</th>\n",
       "      <td>11</td>\n",
       "      <td>James K. Polk</td>\n",
       "      <td>173</td>\n",
       "    </tr>\n",
       "    <tr>\n",
       "      <th>11</th>\n",
       "      <td>12</td>\n",
       "      <td>Zachary Taylor</td>\n",
       "      <td>173</td>\n",
       "    </tr>\n",
       "    <tr>\n",
       "      <th>12</th>\n",
       "      <td>13</td>\n",
       "      <td>Millard Fillmore</td>\n",
       "      <td>175</td>\n",
       "    </tr>\n",
       "    <tr>\n",
       "      <th>13</th>\n",
       "      <td>14</td>\n",
       "      <td>Franklin Pierce</td>\n",
       "      <td>178</td>\n",
       "    </tr>\n",
       "    <tr>\n",
       "      <th>14</th>\n",
       "      <td>15</td>\n",
       "      <td>James Buchanan</td>\n",
       "      <td>183</td>\n",
       "    </tr>\n",
       "    <tr>\n",
       "      <th>15</th>\n",
       "      <td>16</td>\n",
       "      <td>Abraham Lincoln</td>\n",
       "      <td>193</td>\n",
       "    </tr>\n",
       "    <tr>\n",
       "      <th>16</th>\n",
       "      <td>17</td>\n",
       "      <td>Andrew Johnson</td>\n",
       "      <td>178</td>\n",
       "    </tr>\n",
       "    <tr>\n",
       "      <th>17</th>\n",
       "      <td>18</td>\n",
       "      <td>Ulysses S. Grant</td>\n",
       "      <td>173</td>\n",
       "    </tr>\n",
       "    <tr>\n",
       "      <th>18</th>\n",
       "      <td>19</td>\n",
       "      <td>Rutherford B. Hayes</td>\n",
       "      <td>174</td>\n",
       "    </tr>\n",
       "    <tr>\n",
       "      <th>19</th>\n",
       "      <td>20</td>\n",
       "      <td>James A. Garfield</td>\n",
       "      <td>183</td>\n",
       "    </tr>\n",
       "    <tr>\n",
       "      <th>20</th>\n",
       "      <td>21</td>\n",
       "      <td>Chester A. Arthur</td>\n",
       "      <td>183</td>\n",
       "    </tr>\n",
       "    <tr>\n",
       "      <th>21</th>\n",
       "      <td>23</td>\n",
       "      <td>Benjamin Harrison</td>\n",
       "      <td>168</td>\n",
       "    </tr>\n",
       "    <tr>\n",
       "      <th>22</th>\n",
       "      <td>25</td>\n",
       "      <td>William McKinley</td>\n",
       "      <td>170</td>\n",
       "    </tr>\n",
       "    <tr>\n",
       "      <th>23</th>\n",
       "      <td>26</td>\n",
       "      <td>Theodore Roosevelt</td>\n",
       "      <td>178</td>\n",
       "    </tr>\n",
       "    <tr>\n",
       "      <th>24</th>\n",
       "      <td>27</td>\n",
       "      <td>William Howard Taft</td>\n",
       "      <td>182</td>\n",
       "    </tr>\n",
       "    <tr>\n",
       "      <th>25</th>\n",
       "      <td>28</td>\n",
       "      <td>Woodrow Wilson</td>\n",
       "      <td>180</td>\n",
       "    </tr>\n",
       "    <tr>\n",
       "      <th>26</th>\n",
       "      <td>29</td>\n",
       "      <td>Warren G. Harding</td>\n",
       "      <td>183</td>\n",
       "    </tr>\n",
       "    <tr>\n",
       "      <th>27</th>\n",
       "      <td>30</td>\n",
       "      <td>Calvin Coolidge</td>\n",
       "      <td>178</td>\n",
       "    </tr>\n",
       "    <tr>\n",
       "      <th>28</th>\n",
       "      <td>31</td>\n",
       "      <td>Herbert Hoover</td>\n",
       "      <td>182</td>\n",
       "    </tr>\n",
       "    <tr>\n",
       "      <th>29</th>\n",
       "      <td>32</td>\n",
       "      <td>Franklin D. Roosevelt</td>\n",
       "      <td>188</td>\n",
       "    </tr>\n",
       "    <tr>\n",
       "      <th>30</th>\n",
       "      <td>33</td>\n",
       "      <td>Harry S. Truman</td>\n",
       "      <td>175</td>\n",
       "    </tr>\n",
       "    <tr>\n",
       "      <th>31</th>\n",
       "      <td>34</td>\n",
       "      <td>Dwight D. Eisenhower</td>\n",
       "      <td>179</td>\n",
       "    </tr>\n",
       "    <tr>\n",
       "      <th>32</th>\n",
       "      <td>35</td>\n",
       "      <td>John F. Kennedy</td>\n",
       "      <td>183</td>\n",
       "    </tr>\n",
       "    <tr>\n",
       "      <th>33</th>\n",
       "      <td>36</td>\n",
       "      <td>Lyndon B. Johnson</td>\n",
       "      <td>193</td>\n",
       "    </tr>\n",
       "    <tr>\n",
       "      <th>34</th>\n",
       "      <td>37</td>\n",
       "      <td>Richard Nixon</td>\n",
       "      <td>182</td>\n",
       "    </tr>\n",
       "    <tr>\n",
       "      <th>35</th>\n",
       "      <td>38</td>\n",
       "      <td>Gerald Ford</td>\n",
       "      <td>183</td>\n",
       "    </tr>\n",
       "    <tr>\n",
       "      <th>36</th>\n",
       "      <td>39</td>\n",
       "      <td>Jimmy Carter</td>\n",
       "      <td>177</td>\n",
       "    </tr>\n",
       "    <tr>\n",
       "      <th>37</th>\n",
       "      <td>40</td>\n",
       "      <td>Ronald Reagan</td>\n",
       "      <td>185</td>\n",
       "    </tr>\n",
       "    <tr>\n",
       "      <th>38</th>\n",
       "      <td>41</td>\n",
       "      <td>George H. W. Bush</td>\n",
       "      <td>188</td>\n",
       "    </tr>\n",
       "    <tr>\n",
       "      <th>39</th>\n",
       "      <td>42</td>\n",
       "      <td>Bill Clinton</td>\n",
       "      <td>188</td>\n",
       "    </tr>\n",
       "    <tr>\n",
       "      <th>40</th>\n",
       "      <td>43</td>\n",
       "      <td>George W. Bush</td>\n",
       "      <td>182</td>\n",
       "    </tr>\n",
       "    <tr>\n",
       "      <th>41</th>\n",
       "      <td>44</td>\n",
       "      <td>Barack Obama</td>\n",
       "      <td>185</td>\n",
       "    </tr>\n",
       "  </tbody>\n",
       "</table>\n",
       "</div>"
      ],
      "text/plain": [
       "    order                    name  height(cm)\n",
       "0       1       George Washington         189\n",
       "1       2              John Adams         170\n",
       "2       3        Thomas Jefferson         189\n",
       "3       4           James Madison         163\n",
       "4       5            James Monroe         183\n",
       "5       6       John Quincy Adams         171\n",
       "6       7          Andrew Jackson         185\n",
       "7       8        Martin Van Buren         168\n",
       "8       9  William Henry Harrison         173\n",
       "9      10              John Tyler         183\n",
       "10     11           James K. Polk         173\n",
       "11     12          Zachary Taylor         173\n",
       "12     13        Millard Fillmore         175\n",
       "13     14         Franklin Pierce         178\n",
       "14     15          James Buchanan         183\n",
       "15     16         Abraham Lincoln         193\n",
       "16     17          Andrew Johnson         178\n",
       "17     18        Ulysses S. Grant         173\n",
       "18     19     Rutherford B. Hayes         174\n",
       "19     20       James A. Garfield         183\n",
       "20     21       Chester A. Arthur         183\n",
       "21     23       Benjamin Harrison         168\n",
       "22     25        William McKinley         170\n",
       "23     26      Theodore Roosevelt         178\n",
       "24     27     William Howard Taft         182\n",
       "25     28          Woodrow Wilson         180\n",
       "26     29       Warren G. Harding         183\n",
       "27     30         Calvin Coolidge         178\n",
       "28     31          Herbert Hoover         182\n",
       "29     32   Franklin D. Roosevelt         188\n",
       "30     33         Harry S. Truman         175\n",
       "31     34    Dwight D. Eisenhower         179\n",
       "32     35         John F. Kennedy         183\n",
       "33     36       Lyndon B. Johnson         193\n",
       "34     37           Richard Nixon         182\n",
       "35     38             Gerald Ford         183\n",
       "36     39            Jimmy Carter         177\n",
       "37     40           Ronald Reagan         185\n",
       "38     41       George H. W. Bush         188\n",
       "39     42            Bill Clinton         188\n",
       "40     43          George W. Bush         182\n",
       "41     44            Barack Obama         185"
      ]
     },
     "execution_count": 39,
     "metadata": {},
     "output_type": "execute_result"
    }
   ],
   "source": [
    "import pandas as pd\n",
    "import numpy as np\n",
    "\n",
    "president_heigth = pd.read_csv('C:\\\\Datasets\\\\president_height.csv')\n",
    "president_heigth\n",
    "\n",
    "# for csv pd.read_csv\n",
    "# for excel pd.read_excel\n",
    "# for table pd.read_table\n",
    "\n",
    "# ensure to use double backslash"
   ]
  },
  {
   "cell_type": "code",
   "execution_count": 41,
   "id": "a95cc145",
   "metadata": {
    "scrolled": true
   },
   "outputs": [
    {
     "name": "stdout",
     "output_type": "stream",
     "text": [
      "president height\n",
      " [189 170 189 163 183 171 185 168 173 183 173 173 175 178 183 193 178 173\n",
      " 174 183 183 168 170 178 182 180 183 178 182 188 175 179 183 193 182 183\n",
      " 177 185 188 188 182 185] \n",
      "\n",
      "president name\n",
      " ['George Washington' 'John Adams' 'Thomas Jefferson' 'James Madison'\n",
      " 'James Monroe' 'John Quincy Adams' 'Andrew Jackson' 'Martin Van Buren'\n",
      " 'William Henry Harrison' 'John Tyler' 'James K. Polk' 'Zachary Taylor'\n",
      " 'Millard Fillmore' 'Franklin Pierce' 'James Buchanan' 'Abraham Lincoln'\n",
      " 'Andrew Johnson' 'Ulysses S. Grant' 'Rutherford B. Hayes'\n",
      " 'James A. Garfield' 'Chester A. Arthur' 'Benjamin Harrison'\n",
      " 'William McKinley' 'Theodore Roosevelt' 'William Howard Taft'\n",
      " 'Woodrow Wilson' 'Warren G. Harding' 'Calvin Coolidge' 'Herbert Hoover'\n",
      " 'Franklin D. Roosevelt' 'Harry S. Truman' 'Dwight D. Eisenhower'\n",
      " 'John F. Kennedy' 'Lyndon B. Johnson' 'Richard Nixon' 'Gerald Ford'\n",
      " 'Jimmy Carter' 'Ronald Reagan' 'George H. W. Bush' 'Bill Clinton'\n",
      " 'George W. Bush' 'Barack Obama']\n"
     ]
    }
   ],
   "source": [
    "# we need to extract each col of the table and convert it to np array to compute the aggrergate on it.\n",
    "pres_height = np.array(president_heigth['height(cm)'])\n",
    "pres_name = np.array(president_heigth['name'])\n",
    "print(\"president height\\n\", pres_height, \"\\n\")\n",
    "print(\"president name\\n\", pres_name)"
   ]
  },
  {
   "cell_type": "code",
   "execution_count": 43,
   "id": "f43b4b33",
   "metadata": {},
   "outputs": [
    {
     "name": "stdout",
     "output_type": "stream",
     "text": [
      "mean height:  179.73809523809524\n",
      "standard devaition height:  6.931843442745892\n",
      "minimum height:  163\n",
      "maximum height:  193\n"
     ]
    }
   ],
   "source": [
    "# performing aggregate on president's height\n",
    "print(\"mean height: \", pres_height.mean())\n",
    "print(\"standard devaition height: \", pres_height.std())\n",
    "print(\"minimum height: \", pres_height.min())\n",
    "print(\"maximum height: \", pres_height.max())"
   ]
  },
  {
   "cell_type": "code",
   "execution_count": 44,
   "id": "ee513962",
   "metadata": {},
   "outputs": [
    {
     "data": {
      "text/plain": [
       "'Abraham Lincoln'"
      ]
     },
     "execution_count": 44,
     "metadata": {},
     "output_type": "execute_result"
    }
   ],
   "source": [
    "# returning president with maximum height\n",
    "# pres_height.argmax()\n",
    "# pres_name[15]\n",
    "pres_name[pres_height.argmax()]  #argmax returns the index of the max value"
   ]
  },
  {
   "cell_type": "code",
   "execution_count": 46,
   "id": "8e43bdc0",
   "metadata": {},
   "outputs": [
    {
     "name": "stdout",
     "output_type": "stream",
     "text": [
      "Abraham Lincoln\n",
      "Lyndon B. Johnson\n"
     ]
    }
   ],
   "source": [
    "y = 0\n",
    "for x in pres_height:\n",
    "    if x == 193:\n",
    "#         print(y)\n",
    "        print(pres_name[y])\n",
    "    y+=1\n",
    "    "
   ]
  },
  {
   "cell_type": "code",
   "execution_count": 47,
   "id": "fd476cfa",
   "metadata": {},
   "outputs": [
    {
     "name": "stdout",
     "output_type": "stream",
     "text": [
      "James Madison 163\n"
     ]
    }
   ],
   "source": [
    "# returning president with minimum height\n",
    "print(pres_name[pres_height.argmin()], pres_height.min())"
   ]
  },
  {
   "cell_type": "code",
   "execution_count": 53,
   "id": "c7e7ce13",
   "metadata": {},
   "outputs": [
    {
     "data": {
      "image/png": "[encoded data removed]",
      "text/plain": [
       "<Figure size 1000x500 with 1 Axes>"
      ]
     },
     "metadata": {},
     "output_type": "display_data"
    }
   ],
   "source": [
    "import matplotlib.pyplot as plt\n",
    "fig = plt.figure(figsize=(10,5))\n",
    "plt.plot(pres_height, 'r-')  #'r-' means color red\n",
    "plt.xlabel('US president')\n",
    "plt.ylabel('height')\n",
    "plt.show();"
   ]
  },
  {
   "cell_type": "code",
   "execution_count": 59,
   "id": "37a50c53",
   "metadata": {},
   "outputs": [
    {
     "name": "stderr",
     "output_type": "stream",
     "text": [
      "C:\\Users\\USER\\AppData\\Local\\Temp\\ipykernel_2760\\2297120341.py:1: MatplotlibDeprecationWarning: The seaborn styles shipped by Matplotlib are deprecated since 3.6, as they no longer correspond to the styles shipped by seaborn. However, they will remain available as 'seaborn-v0_8-<style>'. Alternatively, directly use the seaborn API instead.\n",
      "  plt.style.use('seaborn')\n"
     ]
    },
    {
     "data": {
      "image/png": "[encoded data removed]",
      "text/plain": [
       "<Figure size 800x550 with 1 Axes>"
      ]
     },
     "metadata": {},
     "output_type": "display_data"
    }
   ],
   "source": [
    "plt.style.use('seaborn')\n",
    "plt.hist(pres_height)\n",
    "plt.title('graph of US president height')\n",
    "plt.xlabel('US president')\n",
    "plt.ylabel('height');"
   ]
  },
  {
   "cell_type": "markdown",
   "id": "fb0152bd",
   "metadata": {},
   "source": [
    "Broadcasting an array"
   ]
  },
  {
   "cell_type": "code",
   "execution_count": 3,
   "id": "66b95557",
   "metadata": {},
   "outputs": [
    {
     "name": "stdout",
     "output_type": "stream",
     "text": [
      "x array: \n",
      " [[1 2 3]\n",
      " [4 5 6]]\n",
      "y array: \n",
      " [[1 2 4]\n",
      " [4 5 6]]\n"
     ]
    }
   ],
   "source": [
    "x = np.array(([1,2,3],[4,5,6]))\n",
    "y = np.array(([1,2,4],[4,5,6]))\n",
    "print('x array: \\n',x)\n",
    "print('y array: \\n',y)"
   ]
  },
  {
   "cell_type": "code",
   "execution_count": 4,
   "id": "69db0fb4",
   "metadata": {},
   "outputs": [
    {
     "data": {
      "text/plain": [
       "array([[ 6,  7,  8],\n",
       "       [ 9, 10, 11]])"
      ]
     },
     "execution_count": 4,
     "metadata": {},
     "output_type": "execute_result"
    }
   ],
   "source": [
    "# 5 will broadcast itself to match the dimestion of x array\n",
    "\n",
    "x +5"
   ]
  },
  {
   "cell_type": "code",
   "execution_count": 5,
   "id": "9b925853",
   "metadata": {},
   "outputs": [
    {
     "data": {
      "text/plain": [
       "array([[ 2,  5,  9],\n",
       "       [ 5,  8, 11]])"
      ]
     },
     "execution_count": 5,
     "metadata": {},
     "output_type": "execute_result"
    }
   ],
   "source": [
    "# adding one dimension to a two dimension array z will broadcast to match dimension of y\n",
    "\n",
    "z = np.array([1,3,5])\n",
    "w = np.array([2,5,7])\n",
    "y+z\n",
    "# z.shape"
   ]
  },
  {
   "cell_type": "code",
   "execution_count": 6,
   "id": "db206987",
   "metadata": {},
   "outputs": [
    {
     "data": {
      "text/plain": [
       "array([[1],\n",
       "       [3],\n",
       "       [5]])"
      ]
     },
     "execution_count": 6,
     "metadata": {},
     "output_type": "execute_result"
    }
   ],
   "source": [
    "# array b will broadcast itself to match the dimension of w and vice versa\n",
    "\n",
    "b = z.reshape(3,1)\n",
    "b"
   ]
  },
  {
   "cell_type": "code",
   "execution_count": 8,
   "id": "40445e71",
   "metadata": {},
   "outputs": [
    {
     "data": {
      "text/plain": [
       "array([[ 3,  6,  8],\n",
       "       [ 5,  8, 10],\n",
       "       [ 7, 10, 12]])"
      ]
     },
     "execution_count": 8,
     "metadata": {},
     "output_type": "execute_result"
    }
   ],
   "source": [
    "# w.shape\n",
    "w + b"
   ]
  },
  {
   "cell_type": "markdown",
   "id": "0f409a9a",
   "metadata": {},
   "source": [
    "Broadcasting rules"
   ]
  },
  {
   "cell_type": "code",
   "execution_count": 9,
   "id": "fe908c85",
   "metadata": {},
   "outputs": [
    {
     "name": "stdout",
     "output_type": "stream",
     "text": [
      "[[1. 1. 1.]\n",
      " [1. 1. 1.]]\n",
      "[0 1 2]\n"
     ]
    }
   ],
   "source": [
    "# Rule 1: if the two arrays differ in their number of dimensions, the shape of the \n",
    "# one with fewer dimensions is padded with ones on its leading left side\n",
    "\n",
    "m = np.ones((2,3))\n",
    "a = np.arange(3)\n",
    "print(m)\n",
    "print(a)"
   ]
  },
  {
   "cell_type": "code",
   "execution_count": 10,
   "id": "3fa5e730",
   "metadata": {},
   "outputs": [
    {
     "data": {
      "text/plain": [
       "array([[1., 2., 3.],\n",
       "       [1., 2., 3.]])"
      ]
     },
     "execution_count": 10,
     "metadata": {},
     "output_type": "execute_result"
    }
   ],
   "source": [
    "m + a"
   ]
  },
  {
   "cell_type": "code",
   "execution_count": 11,
   "id": "985aac54",
   "metadata": {},
   "outputs": [
    {
     "name": "stdout",
     "output_type": "stream",
     "text": [
      "[[0]\n",
      " [1]\n",
      " [2]]\n",
      "[0 1 2]\n"
     ]
    }
   ],
   "source": [
    "# Rule2: if the shape of the two arrays does not match in any dimension, the array \n",
    "#with shape equal to 1 in that dimension is stretched to match the other shape.\n",
    "a = np.arange(3).reshape(3,1)\n",
    "b = np.arange(3)\n",
    "print(a)\n",
    "print(b)"
   ]
  },
  {
   "cell_type": "code",
   "execution_count": 12,
   "id": "6eb1421e",
   "metadata": {},
   "outputs": [
    {
     "data": {
      "text/plain": [
       "(3, 1)"
      ]
     },
     "execution_count": 12,
     "metadata": {},
     "output_type": "execute_result"
    }
   ],
   "source": [
    "a.shape"
   ]
  },
  {
   "cell_type": "code",
   "execution_count": 13,
   "id": "fe4f21a4",
   "metadata": {},
   "outputs": [
    {
     "data": {
      "text/plain": [
       "(3,)"
      ]
     },
     "execution_count": 13,
     "metadata": {},
     "output_type": "execute_result"
    }
   ],
   "source": [
    "b.shape"
   ]
  },
  {
   "cell_type": "code",
   "execution_count": 14,
   "id": "52aba2d8",
   "metadata": {},
   "outputs": [
    {
     "data": {
      "text/plain": [
       "array([[0, 1, 2],\n",
       "       [1, 2, 3],\n",
       "       [2, 3, 4]])"
      ]
     },
     "execution_count": 14,
     "metadata": {},
     "output_type": "execute_result"
    }
   ],
   "source": [
    "a + b"
   ]
  },
  {
   "cell_type": "code",
   "execution_count": null,
   "id": "34843ac1",
   "metadata": {},
   "outputs": [],
   "source": []
  },
  {
   "cell_type": "code",
   "execution_count": 21,
   "id": "1830883f",
   "metadata": {},
   "outputs": [
    {
     "name": "stdout",
     "output_type": "stream",
     "text": [
      "[[1. 1.]\n",
      " [1. 1.]\n",
      " [1. 1.]]\n",
      "[0 1 2]\n"
     ]
    }
   ],
   "source": [
    "# Rule 3: if in any dimension the sizes disagree and neither is equal to 1, an error is raised\n",
    "m = np.ones((3,2))\n",
    "a = np.arange(3) \n",
    "print(m)\n",
    "print(a)"
   ]
  },
  {
   "cell_type": "code",
   "execution_count": 22,
   "id": "a86560ad",
   "metadata": {},
   "outputs": [
    {
     "name": "stdout",
     "output_type": "stream",
     "text": [
      "(3, 2)\n",
      "(3,)\n"
     ]
    }
   ],
   "source": [
    "print(m.shape)  \n",
    "print(a.shape)"
   ]
  },
  {
   "cell_type": "code",
   "execution_count": 23,
   "id": "c38c3ca7",
   "metadata": {},
   "outputs": [
    {
     "ename": "ValueError",
     "evalue": "operands could not be broadcast together with shapes (3,2) (3,) ",
     "output_type": "error",
     "traceback": [
      "\u001b[1;31m---------------------------------------------------------------------------\u001b[0m",
      "\u001b[1;31mValueError\u001b[0m                                Traceback (most recent call last)",
      "Cell \u001b[1;32mIn[23], line 1\u001b[0m\n\u001b[1;32m----> 1\u001b[0m m \u001b[38;5;241m+\u001b[39m a\n",
      "\u001b[1;31mValueError\u001b[0m: operands could not be broadcast together with shapes (3,2) (3,) "
     ]
    }
   ],
   "source": [
    "m + a #because the are not equal"
   ]
  },
  {
   "cell_type": "code",
   "execution_count": 24,
   "id": "61948f7e",
   "metadata": {},
   "outputs": [
    {
     "data": {
      "text/plain": [
       "array([[0],\n",
       "       [1],\n",
       "       [2]])"
      ]
     },
     "execution_count": 24,
     "metadata": {},
     "output_type": "execute_result"
    }
   ],
   "source": [
    "# solution  to the error\n",
    "# but by reshaping array of 'a' it will be possible to do computation with m array\n",
    "a[:,np.newaxis]"
   ]
  },
  {
   "cell_type": "code",
   "execution_count": 26,
   "id": "6c444420",
   "metadata": {},
   "outputs": [
    {
     "data": {
      "text/plain": [
       "array([[1., 1.],\n",
       "       [2., 2.],\n",
       "       [3., 3.]])"
      ]
     },
     "execution_count": 26,
     "metadata": {},
     "output_type": "execute_result"
    }
   ],
   "source": [
    "m + a[:,np.newaxis]"
   ]
  },
  {
   "cell_type": "code",
   "execution_count": 27,
   "id": "35a65f5c",
   "metadata": {},
   "outputs": [
    {
     "data": {
      "text/plain": [
       "array([[1.31326169, 1.31326169],\n",
       "       [1.69314718, 1.69314718],\n",
       "       [2.31326169, 2.31326169]])"
      ]
     },
     "execution_count": 27,
     "metadata": {},
     "output_type": "execute_result"
    }
   ],
   "source": [
    "#broadcasting can also be done on any binary ufunc e.g computing log(exp(a) + exp(b))\n",
    "np.logaddexp(m, a[:,np.newaxis])"
   ]
  },
  {
   "cell_type": "code",
   "execution_count": 28,
   "id": "dbbf8b36",
   "metadata": {},
   "outputs": [
    {
     "data": {
      "text/plain": [
       "array([[0.31703624, 0.49917336, 0.64211898],\n",
       "       [0.67075142, 0.99932865, 0.87850626],\n",
       "       [0.52231789, 0.30772243, 0.24972309],\n",
       "       [0.70994869, 0.07269041, 0.9574953 ],\n",
       "       [0.95853394, 0.47841599, 0.01782824],\n",
       "       [0.40954206, 0.77437881, 0.66193908],\n",
       "       [0.77219958, 0.84064207, 0.0052346 ],\n",
       "       [0.39992477, 0.75795688, 0.109092  ],\n",
       "       [0.31813593, 0.48901114, 0.89400466],\n",
       "       [0.69899851, 0.17667844, 0.08838446]])"
      ]
     },
     "execution_count": 28,
     "metadata": {},
     "output_type": "execute_result"
    }
   ],
   "source": [
    "#common practice with broadcationg\n",
    "x = np.random.random((10,3))\n",
    "x"
   ]
  },
  {
   "cell_type": "code",
   "execution_count": 29,
   "id": "a10dc6cc",
   "metadata": {},
   "outputs": [
    {
     "data": {
      "text/plain": [
       "array([3.33066907e-17, 3.33066907e-17, 5.55111512e-17])"
      ]
     },
     "execution_count": 29,
     "metadata": {},
     "output_type": "execute_result"
    }
   ],
   "source": [
    "# centering an array\n",
    "xmean = x.mean(axis=0)\n",
    "x_center = x - xmean\n",
    "x_center.mean(0)\n",
    "# when the center array close to zero or zero then we have a centralised array"
   ]
  },
  {
   "cell_type": "code",
   "execution_count": 30,
   "id": "40958f05",
   "metadata": {},
   "outputs": [
    {
     "data": {
      "text/html": [
       "<div>\n",
       "<style scoped>\n",
       "    .dataframe tbody tr th:only-of-type {\n",
       "        vertical-align: middle;\n",
       "    }\n",
       "\n",
       "    .dataframe tbody tr th {\n",
       "        vertical-align: top;\n",
       "    }\n",
       "\n",
       "    .dataframe thead th {\n",
       "        text-align: right;\n",
       "    }\n",
       "</style>\n",
       "<table border=\"1\" class=\"dataframe\">\n",
       "  <thead>\n",
       "    <tr style=\"text-align: right;\">\n",
       "      <th></th>\n",
       "      <th>STATION</th>\n",
       "      <th>STATION_NAME</th>\n",
       "      <th>DATE</th>\n",
       "      <th>PRCP</th>\n",
       "      <th>SNWD</th>\n",
       "      <th>SNOW</th>\n",
       "      <th>TMAX</th>\n",
       "      <th>TMIN</th>\n",
       "      <th>AWND</th>\n",
       "      <th>WDF2</th>\n",
       "      <th>WDF5</th>\n",
       "      <th>WSF2</th>\n",
       "      <th>WSF5</th>\n",
       "      <th>WT01</th>\n",
       "      <th>WT05</th>\n",
       "      <th>WT02</th>\n",
       "      <th>WT03</th>\n",
       "    </tr>\n",
       "  </thead>\n",
       "  <tbody>\n",
       "    <tr>\n",
       "      <th>0</th>\n",
       "      <td>NaN</td>\n",
       "      <td>NaN</td>\n",
       "      <td>NaN</td>\n",
       "      <td>NaN</td>\n",
       "      <td>NaN</td>\n",
       "      <td>NaN</td>\n",
       "      <td>NaN</td>\n",
       "      <td>NaN</td>\n",
       "      <td>NaN</td>\n",
       "      <td>NaN</td>\n",
       "      <td>NaN</td>\n",
       "      <td>NaN</td>\n",
       "      <td>NaN</td>\n",
       "      <td>NaN</td>\n",
       "      <td>NaN</td>\n",
       "      <td>NaN</td>\n",
       "      <td>NaN</td>\n",
       "    </tr>\n",
       "    <tr>\n",
       "      <th>1</th>\n",
       "      <td>GHCND:USW00024233</td>\n",
       "      <td>SEATTLE TACOMA INTERNATIONAL AIRPORT WA US</td>\n",
       "      <td>20140101.0</td>\n",
       "      <td>0.0</td>\n",
       "      <td>0.0</td>\n",
       "      <td>0.0</td>\n",
       "      <td>72.0</td>\n",
       "      <td>33.0</td>\n",
       "      <td>12.0</td>\n",
       "      <td>340.0</td>\n",
       "      <td>310.0</td>\n",
       "      <td>36.0</td>\n",
       "      <td>40.0</td>\n",
       "      <td>-9999.0</td>\n",
       "      <td>-9999.0</td>\n",
       "      <td>-9999.0</td>\n",
       "      <td>-9999.0</td>\n",
       "    </tr>\n",
       "    <tr>\n",
       "      <th>2</th>\n",
       "      <td>NaN</td>\n",
       "      <td>NaN</td>\n",
       "      <td>NaN</td>\n",
       "      <td>NaN</td>\n",
       "      <td>NaN</td>\n",
       "      <td>NaN</td>\n",
       "      <td>NaN</td>\n",
       "      <td>NaN</td>\n",
       "      <td>NaN</td>\n",
       "      <td>NaN</td>\n",
       "      <td>NaN</td>\n",
       "      <td>NaN</td>\n",
       "      <td>NaN</td>\n",
       "      <td>NaN</td>\n",
       "      <td>NaN</td>\n",
       "      <td>NaN</td>\n",
       "      <td>NaN</td>\n",
       "    </tr>\n",
       "    <tr>\n",
       "      <th>3</th>\n",
       "      <td>GHCND:USW00024233</td>\n",
       "      <td>SEATTLE TACOMA INTERNATIONAL AIRPORT WA US</td>\n",
       "      <td>20140102.0</td>\n",
       "      <td>41.0</td>\n",
       "      <td>0.0</td>\n",
       "      <td>0.0</td>\n",
       "      <td>106.0</td>\n",
       "      <td>61.0</td>\n",
       "      <td>32.0</td>\n",
       "      <td>190.0</td>\n",
       "      <td>200.0</td>\n",
       "      <td>94.0</td>\n",
       "      <td>116.0</td>\n",
       "      <td>-9999.0</td>\n",
       "      <td>-9999.0</td>\n",
       "      <td>-9999.0</td>\n",
       "      <td>-9999.0</td>\n",
       "    </tr>\n",
       "    <tr>\n",
       "      <th>4</th>\n",
       "      <td>NaN</td>\n",
       "      <td>NaN</td>\n",
       "      <td>NaN</td>\n",
       "      <td>NaN</td>\n",
       "      <td>NaN</td>\n",
       "      <td>NaN</td>\n",
       "      <td>NaN</td>\n",
       "      <td>NaN</td>\n",
       "      <td>NaN</td>\n",
       "      <td>NaN</td>\n",
       "      <td>NaN</td>\n",
       "      <td>NaN</td>\n",
       "      <td>NaN</td>\n",
       "      <td>NaN</td>\n",
       "      <td>NaN</td>\n",
       "      <td>NaN</td>\n",
       "      <td>NaN</td>\n",
       "    </tr>\n",
       "  </tbody>\n",
       "</table>\n",
       "</div>"
      ],
      "text/plain": [
       "             STATION                                STATION_NAME        DATE  \\\n",
       "0                NaN                                         NaN         NaN   \n",
       "1  GHCND:USW00024233  SEATTLE TACOMA INTERNATIONAL AIRPORT WA US  20140101.0   \n",
       "2                NaN                                         NaN         NaN   \n",
       "3  GHCND:USW00024233  SEATTLE TACOMA INTERNATIONAL AIRPORT WA US  20140102.0   \n",
       "4                NaN                                         NaN         NaN   \n",
       "\n",
       "   PRCP  SNWD  SNOW   TMAX  TMIN  AWND   WDF2   WDF5  WSF2   WSF5    WT01  \\\n",
       "0   NaN   NaN   NaN    NaN   NaN   NaN    NaN    NaN   NaN    NaN     NaN   \n",
       "1   0.0   0.0   0.0   72.0  33.0  12.0  340.0  310.0  36.0   40.0 -9999.0   \n",
       "2   NaN   NaN   NaN    NaN   NaN   NaN    NaN    NaN   NaN    NaN     NaN   \n",
       "3  41.0   0.0   0.0  106.0  61.0  32.0  190.0  200.0  94.0  116.0 -9999.0   \n",
       "4   NaN   NaN   NaN    NaN   NaN   NaN    NaN    NaN   NaN    NaN     NaN   \n",
       "\n",
       "     WT05    WT02    WT03  \n",
       "0     NaN     NaN     NaN  \n",
       "1 -9999.0 -9999.0 -9999.0  \n",
       "2     NaN     NaN     NaN  \n",
       "3 -9999.0 -9999.0 -9999.0  \n",
       "4     NaN     NaN     NaN  "
      ]
     },
     "execution_count": 30,
     "metadata": {},
     "output_type": "execute_result"
    }
   ],
   "source": [
    "import pandas as pd\n",
    "seattle = pd.read_csv('C:\\\\Datasets\\\\seattle2014.csv')\n",
    "seattle.head()"
   ]
  },
  {
   "cell_type": "code",
   "execution_count": 31,
   "id": "180f9232",
   "metadata": {},
   "outputs": [
    {
     "name": "stdout",
     "output_type": "stream",
     "text": [
      "<class 'pandas.core.frame.DataFrame'>\n",
      "RangeIndex: 730 entries, 0 to 729\n",
      "Data columns (total 17 columns):\n",
      " #   Column        Non-Null Count  Dtype  \n",
      "---  ------        --------------  -----  \n",
      " 0   STATION       365 non-null    object \n",
      " 1   STATION_NAME  365 non-null    object \n",
      " 2   DATE          365 non-null    float64\n",
      " 3   PRCP          365 non-null    float64\n",
      " 4   SNWD          365 non-null    float64\n",
      " 5   SNOW          365 non-null    float64\n",
      " 6   TMAX          365 non-null    float64\n",
      " 7   TMIN          365 non-null    float64\n",
      " 8   AWND          365 non-null    float64\n",
      " 9   WDF2          365 non-null    float64\n",
      " 10  WDF5          365 non-null    float64\n",
      " 11  WSF2          365 non-null    float64\n",
      " 12  WSF5          365 non-null    float64\n",
      " 13  WT01          365 non-null    float64\n",
      " 14  WT05          365 non-null    float64\n",
      " 15  WT02          365 non-null    float64\n",
      " 16  WT03          365 non-null    float64\n",
      "dtypes: float64(15), object(2)\n",
      "memory usage: 97.1+ KB\n"
     ]
    }
   ],
   "source": [
    "seattle.info()"
   ]
  },
  {
   "cell_type": "code",
   "execution_count": 33,
   "id": "7b6a5cc8",
   "metadata": {},
   "outputs": [
    {
     "ename": "NameError",
     "evalue": "name 'Seattle' is not defined",
     "output_type": "error",
     "traceback": [
      "\u001b[1;31m---------------------------------------------------------------------------\u001b[0m",
      "\u001b[1;31mNameError\u001b[0m                                 Traceback (most recent call last)",
      "Cell \u001b[1;32mIn[33], line 2\u001b[0m\n\u001b[0;32m      1\u001b[0m \u001b[38;5;66;03m# extracting the PRCP column. This return  the PRCP column series\u001b[39;00m\n\u001b[1;32m----> 2\u001b[0m x \u001b[38;5;241m=\u001b[39m Seattle[\u001b[38;5;124m'\u001b[39m\u001b[38;5;124mPRCP\u001b[39m\u001b[38;5;124m'\u001b[39m] \n\u001b[0;32m      3\u001b[0m x\n",
      "\u001b[1;31mNameError\u001b[0m: name 'Seattle' is not defined"
     ]
    }
   ],
   "source": [
    "# extracting the PRCP column. This return  the PRCP column series\n",
    "# Seattle['PRCP'] "
   ]
  },
  {
   "cell_type": "code",
   "execution_count": 34,
   "id": "2b089349",
   "metadata": {},
   "outputs": [
    {
     "data": {
      "text/plain": [
       "array([ nan,   0.,  nan,  41.,  nan,  15.,  nan,   0.,  nan,   0.,  nan,\n",
       "         3.,  nan, 122.,  nan,  97.,  nan,  58.,  nan,  43.,  nan, 213.,\n",
       "        nan,  15.,  nan,   0.,  nan,   0.,  nan,   0.,  nan,   0.,  nan,\n",
       "         0.,  nan,   0.,  nan,   0.,  nan,   0.,  nan,   0.,  nan,   5.,\n",
       "        nan,   0.,  nan,   0.,  nan,   0.,  nan,   0.,  nan,   0.,  nan,\n",
       "        89.,  nan, 216.,  nan,   0.,  nan,  23.,  nan,  20.,  nan,   0.,\n",
       "        nan,   0.,  nan,   0.,  nan,   0.,  nan,   0.,  nan,   0.,  nan,\n",
       "        51.,  nan,   5.,  nan, 183.,  nan, 170.,  nan,  46.,  nan,  18.,\n",
       "        nan,  94.,  nan, 117.,  nan, 264.,  nan, 145.,  nan, 152.,  nan,\n",
       "        10.,  nan,  30.,  nan,  28.,  nan,  25.,  nan,  61.,  nan, 130.,\n",
       "        nan,   3.,  nan,   0.,  nan,   0.,  nan,   0.,  nan,   5.,  nan,\n",
       "       191.,  nan, 107.,  nan, 165.,  nan, 467.,  nan,  30.,  nan,   0.,\n",
       "        nan, 323.,  nan,  43.,  nan, 188.,  nan,   0.,  nan,   0.,  nan,\n",
       "         5.,  nan,  69.,  nan,  81.,  nan, 277.,  nan,   3.,  nan,   0.,\n",
       "        nan,   5.,  nan,   0.,  nan,   0.,  nan,   0.,  nan,   0.,  nan,\n",
       "         0.,  nan,  41.,  nan,  36.,  nan,   3.,  nan, 221.,  nan, 140.,\n",
       "        nan,   0.,  nan,   0.,  nan,   0.,  nan,   0.,  nan,  25.,  nan,\n",
       "         0.,  nan,  46.,  nan,   0.,  nan,   0.,  nan,  46.,  nan,   0.,\n",
       "        nan,   0.,  nan,   0.,  nan,   0.,  nan,   0.,  nan,   0.,  nan,\n",
       "         5.,  nan, 109.,  nan, 185.,  nan,   0.,  nan, 137.,  nan,   0.,\n",
       "        nan,  51.,  nan, 142.,  nan,  89.,  nan, 124.,  nan,   0.,  nan,\n",
       "        33.,  nan,  69.,  nan,   0.,  nan,   0.,  nan,   0.,  nan,   0.,\n",
       "        nan,   0.,  nan, 333.,  nan, 160.,  nan,  51.,  nan,   0.,  nan,\n",
       "         0.,  nan, 137.,  nan,  20.,  nan,   5.,  nan,   0.,  nan,   0.,\n",
       "        nan,   0.,  nan,   0.,  nan,   0.,  nan,   0.,  nan,   0.,  nan,\n",
       "         0.,  nan,   0.,  nan,   0.,  nan,   0.,  nan,   0.,  nan,  38.,\n",
       "        nan,   0.,  nan,  56.,  nan,   0.,  nan,   0.,  nan,   0.,  nan,\n",
       "         0.,  nan,   0.,  nan,   0.,  nan,   0.,  nan,   0.,  nan,   0.,\n",
       "        nan,   0.,  nan,   0.,  nan,   0.,  nan,   0.,  nan,   0.,  nan,\n",
       "         0.,  nan,   0.,  nan,   0.,  nan,  18.,  nan,  64.,  nan,   0.,\n",
       "        nan,   5.,  nan,  36.,  nan,  13.,  nan,   0.,  nan,   8.,  nan,\n",
       "         3.,  nan,   0.,  nan,   0.,  nan,   0.,  nan,   0.,  nan,   0.,\n",
       "        nan,   0.,  nan,  18.,  nan,  23.,  nan,   0.,  nan,   0.,  nan,\n",
       "         0.,  nan,   0.,  nan,   0.,  nan,   0.,  nan,   0.,  nan,   0.,\n",
       "        nan,   0.,  nan,   0.,  nan,   0.,  nan,   0.,  nan,   0.,  nan,\n",
       "         0.,  nan,   0.,  nan,   0.,  nan,   0.,  nan,   0.,  nan,   0.,\n",
       "        nan,   0.,  nan,   0.,  nan,   0.,  nan,   0.,  nan,   3.,  nan,\n",
       "       193.,  nan,   0.,  nan,   0.,  nan,   0.,  nan,   0.,  nan,   0.,\n",
       "        nan,   0.,  nan,   0.,  nan,   0.,  nan,   0.,  nan,   5.,  nan,\n",
       "         0.,  nan,   0.,  nan,   0.,  nan,   0.,  nan,   0.,  nan,   0.,\n",
       "        nan,   0.,  nan,   0.,  nan,   5.,  nan, 127.,  nan, 216.,  nan,\n",
       "         0.,  nan,  10.,  nan,   0.,  nan,   0.,  nan,   0.,  nan,   0.,\n",
       "        nan,   0.,  nan,   0.,  nan,   0.,  nan,   0.,  nan,   0.,  nan,\n",
       "         0.,  nan,   0.,  nan,   0.,  nan,   0.,  nan,   0.,  nan,  84.,\n",
       "        nan,  13.,  nan,   0.,  nan,  30.,  nan,   0.,  nan,   0.,  nan,\n",
       "         0.,  nan,   0.,  nan,   0.,  nan,   0.,  nan,   0.,  nan,   0.,\n",
       "        nan,   0.,  nan,   0.,  nan,   0.,  nan,   0.,  nan,   0.,  nan,\n",
       "         0.,  nan,   5.,  nan,   3.,  nan,   0.,  nan,   0.,  nan,   0.,\n",
       "        nan,   3.,  nan, 183.,  nan, 203.,  nan,  43.,  nan,  89.,  nan,\n",
       "         0.,  nan,   0.,  nan,   8.,  nan,   0.,  nan,   0.,  nan,   0.,\n",
       "        nan,   0.,  nan,   0.,  nan,   0.,  nan,   0.,  nan,   0.,  nan,\n",
       "         0.,  nan,   0.,  nan,   3.,  nan,  74.,  nan,   0.,  nan,  76.,\n",
       "        nan,  71.,  nan,  86.,  nan,   0.,  nan,  33.,  nan, 150.,  nan,\n",
       "         0.,  nan, 117.,  nan,  10.,  nan, 320.,  nan,  94.,  nan,  41.,\n",
       "        nan,  61.,  nan,  15.,  nan,   8.,  nan, 127.,  nan,   5.,  nan,\n",
       "       254.,  nan, 170.,  nan,   0.,  nan,  18.,  nan, 109.,  nan,  41.,\n",
       "        nan,  48.,  nan,  41.,  nan,   0.,  nan,   0.,  nan,  51.,  nan,\n",
       "         0.,  nan,   0.,  nan,   0.,  nan,   0.,  nan,   0.,  nan,   0.,\n",
       "        nan,   0.,  nan,   0.,  nan,   0.,  nan,   0.,  nan,  36.,  nan,\n",
       "       152.,  nan,   5.,  nan, 119.,  nan,  13.,  nan, 183.,  nan,   3.,\n",
       "        nan,  33.,  nan, 343.,  nan,  36.,  nan,   0.,  nan,   0.,  nan,\n",
       "         0.,  nan,   0.,  nan,   8.,  nan,  30.,  nan,  74.,  nan,   0.,\n",
       "        nan,  91.,  nan,  99.,  nan, 130.,  nan,  69.,  nan,   0.,  nan,\n",
       "         0.,  nan,   0.,  nan,   0.,  nan,   0.,  nan,  28.,  nan, 130.,\n",
       "        nan,  30.,  nan, 196.,  nan,   0.,  nan,   0.,  nan, 206.,  nan,\n",
       "        53.,  nan,   0.,  nan,   0.,  nan,  33.,  nan,  41.,  nan,   0.,\n",
       "        nan,   0.,  nan,   0.])"
      ]
     },
     "execution_count": 34,
     "metadata": {},
     "output_type": "execute_result"
    }
   ],
   "source": [
    "rainfall = seattle['PRCP'].values\n",
    "rainfall"
   ]
  },
  {
   "cell_type": "code",
   "execution_count": 35,
   "id": "3e5463b7",
   "metadata": {},
   "outputs": [
    {
     "data": {
      "text/plain": [
       "array([       nan, 0.        ,        nan, 0.16141732,        nan,\n",
       "       0.05905512,        nan, 0.        ,        nan, 0.        ,\n",
       "              nan, 0.01181102,        nan, 0.48031496,        nan,\n",
       "       0.38188976,        nan, 0.22834646,        nan, 0.16929134,\n",
       "              nan, 0.83858268,        nan, 0.05905512,        nan,\n",
       "       0.        ,        nan, 0.        ,        nan, 0.        ,\n",
       "              nan, 0.        ,        nan, 0.        ,        nan,\n",
       "       0.        ,        nan, 0.        ,        nan, 0.        ,\n",
       "              nan, 0.        ,        nan, 0.01968504,        nan,\n",
       "       0.        ,        nan, 0.        ,        nan, 0.        ,\n",
       "              nan, 0.        ,        nan, 0.        ,        nan,\n",
       "       0.3503937 ,        nan, 0.8503937 ,        nan, 0.        ,\n",
       "              nan, 0.09055118,        nan, 0.07874016,        nan,\n",
       "       0.        ,        nan, 0.        ,        nan, 0.        ,\n",
       "              nan, 0.        ,        nan, 0.        ,        nan,\n",
       "       0.        ,        nan, 0.2007874 ,        nan, 0.01968504,\n",
       "              nan, 0.72047244,        nan, 0.66929134,        nan,\n",
       "       0.18110236,        nan, 0.07086614,        nan, 0.37007874,\n",
       "              nan, 0.46062992,        nan, 1.03937008,        nan,\n",
       "       0.57086614,        nan, 0.5984252 ,        nan, 0.03937008,\n",
       "              nan, 0.11811024,        nan, 0.11023622,        nan,\n",
       "       0.0984252 ,        nan, 0.24015748,        nan, 0.51181102,\n",
       "              nan, 0.01181102,        nan, 0.        ,        nan,\n",
       "       0.        ,        nan, 0.        ,        nan, 0.01968504,\n",
       "              nan, 0.7519685 ,        nan, 0.42125984,        nan,\n",
       "       0.6496063 ,        nan, 1.83858268,        nan, 0.11811024,\n",
       "              nan, 0.        ,        nan, 1.27165354,        nan,\n",
       "       0.16929134,        nan, 0.74015748,        nan, 0.        ,\n",
       "              nan, 0.        ,        nan, 0.01968504,        nan,\n",
       "       0.27165354,        nan, 0.31889764,        nan, 1.09055118,\n",
       "              nan, 0.01181102,        nan, 0.        ,        nan,\n",
       "       0.01968504,        nan, 0.        ,        nan, 0.        ,\n",
       "              nan, 0.        ,        nan, 0.        ,        nan,\n",
       "       0.        ,        nan, 0.16141732,        nan, 0.14173228,\n",
       "              nan, 0.01181102,        nan, 0.87007874,        nan,\n",
       "       0.5511811 ,        nan, 0.        ,        nan, 0.        ,\n",
       "              nan, 0.        ,        nan, 0.        ,        nan,\n",
       "       0.0984252 ,        nan, 0.        ,        nan, 0.18110236,\n",
       "              nan, 0.        ,        nan, 0.        ,        nan,\n",
       "       0.18110236,        nan, 0.        ,        nan, 0.        ,\n",
       "              nan, 0.        ,        nan, 0.        ,        nan,\n",
       "       0.        ,        nan, 0.        ,        nan, 0.01968504,\n",
       "              nan, 0.42913386,        nan, 0.72834646,        nan,\n",
       "       0.        ,        nan, 0.53937008,        nan, 0.        ,\n",
       "              nan, 0.2007874 ,        nan, 0.55905512,        nan,\n",
       "       0.3503937 ,        nan, 0.48818898,        nan, 0.        ,\n",
       "              nan, 0.12992126,        nan, 0.27165354,        nan,\n",
       "       0.        ,        nan, 0.        ,        nan, 0.        ,\n",
       "              nan, 0.        ,        nan, 0.        ,        nan,\n",
       "       1.31102362,        nan, 0.62992126,        nan, 0.2007874 ,\n",
       "              nan, 0.        ,        nan, 0.        ,        nan,\n",
       "       0.53937008,        nan, 0.07874016,        nan, 0.01968504,\n",
       "              nan, 0.        ,        nan, 0.        ,        nan,\n",
       "       0.        ,        nan, 0.        ,        nan, 0.        ,\n",
       "              nan, 0.        ,        nan, 0.        ,        nan,\n",
       "       0.        ,        nan, 0.        ,        nan, 0.        ,\n",
       "              nan, 0.        ,        nan, 0.        ,        nan,\n",
       "       0.1496063 ,        nan, 0.        ,        nan, 0.22047244,\n",
       "              nan, 0.        ,        nan, 0.        ,        nan,\n",
       "       0.        ,        nan, 0.        ,        nan, 0.        ,\n",
       "              nan, 0.        ,        nan, 0.        ,        nan,\n",
       "       0.        ,        nan, 0.        ,        nan, 0.        ,\n",
       "              nan, 0.        ,        nan, 0.        ,        nan,\n",
       "       0.        ,        nan, 0.        ,        nan, 0.        ,\n",
       "              nan, 0.        ,        nan, 0.        ,        nan,\n",
       "       0.07086614,        nan, 0.2519685 ,        nan, 0.        ,\n",
       "              nan, 0.01968504,        nan, 0.14173228,        nan,\n",
       "       0.0511811 ,        nan, 0.        ,        nan, 0.03149606,\n",
       "              nan, 0.01181102,        nan, 0.        ,        nan,\n",
       "       0.        ,        nan, 0.        ,        nan, 0.        ,\n",
       "              nan, 0.        ,        nan, 0.        ,        nan,\n",
       "       0.07086614,        nan, 0.09055118,        nan, 0.        ,\n",
       "              nan, 0.        ,        nan, 0.        ,        nan,\n",
       "       0.        ,        nan, 0.        ,        nan, 0.        ,\n",
       "              nan, 0.        ,        nan, 0.        ,        nan,\n",
       "       0.        ,        nan, 0.        ,        nan, 0.        ,\n",
       "              nan, 0.        ,        nan, 0.        ,        nan,\n",
       "       0.        ,        nan, 0.        ,        nan, 0.        ,\n",
       "              nan, 0.        ,        nan, 0.        ,        nan,\n",
       "       0.        ,        nan, 0.        ,        nan, 0.        ,\n",
       "              nan, 0.        ,        nan, 0.        ,        nan,\n",
       "       0.01181102,        nan, 0.75984252,        nan, 0.        ,\n",
       "              nan, 0.        ,        nan, 0.        ,        nan,\n",
       "       0.        ,        nan, 0.        ,        nan, 0.        ,\n",
       "              nan, 0.        ,        nan, 0.        ,        nan,\n",
       "       0.        ,        nan, 0.01968504,        nan, 0.        ,\n",
       "              nan, 0.        ,        nan, 0.        ,        nan,\n",
       "       0.        ,        nan, 0.        ,        nan, 0.        ,\n",
       "              nan, 0.        ,        nan, 0.        ,        nan,\n",
       "       0.01968504,        nan, 0.5       ,        nan, 0.8503937 ,\n",
       "              nan, 0.        ,        nan, 0.03937008,        nan,\n",
       "       0.        ,        nan, 0.        ,        nan, 0.        ,\n",
       "              nan, 0.        ,        nan, 0.        ,        nan,\n",
       "       0.        ,        nan, 0.        ,        nan, 0.        ,\n",
       "              nan, 0.        ,        nan, 0.        ,        nan,\n",
       "       0.        ,        nan, 0.        ,        nan, 0.        ,\n",
       "              nan, 0.        ,        nan, 0.33070866,        nan,\n",
       "       0.0511811 ,        nan, 0.        ,        nan, 0.11811024,\n",
       "              nan, 0.        ,        nan, 0.        ,        nan,\n",
       "       0.        ,        nan, 0.        ,        nan, 0.        ,\n",
       "              nan, 0.        ,        nan, 0.        ,        nan,\n",
       "       0.        ,        nan, 0.        ,        nan, 0.        ,\n",
       "              nan, 0.        ,        nan, 0.        ,        nan,\n",
       "       0.        ,        nan, 0.        ,        nan, 0.01968504,\n",
       "              nan, 0.01181102,        nan, 0.        ,        nan,\n",
       "       0.        ,        nan, 0.        ,        nan, 0.01181102,\n",
       "              nan, 0.72047244,        nan, 0.7992126 ,        nan,\n",
       "       0.16929134,        nan, 0.3503937 ,        nan, 0.        ,\n",
       "              nan, 0.        ,        nan, 0.03149606,        nan,\n",
       "       0.        ,        nan, 0.        ,        nan, 0.        ,\n",
       "              nan, 0.        ,        nan, 0.        ,        nan,\n",
       "       0.        ,        nan, 0.        ,        nan, 0.        ,\n",
       "              nan, 0.        ,        nan, 0.        ,        nan,\n",
       "       0.01181102,        nan, 0.29133858,        nan, 0.        ,\n",
       "              nan, 0.2992126 ,        nan, 0.27952756,        nan,\n",
       "       0.33858268,        nan, 0.        ,        nan, 0.12992126,\n",
       "              nan, 0.59055118,        nan, 0.        ,        nan,\n",
       "       0.46062992,        nan, 0.03937008,        nan, 1.25984252,\n",
       "              nan, 0.37007874,        nan, 0.16141732,        nan,\n",
       "       0.24015748,        nan, 0.05905512,        nan, 0.03149606,\n",
       "              nan, 0.5       ,        nan, 0.01968504,        nan,\n",
       "       1.        ,        nan, 0.66929134,        nan, 0.        ,\n",
       "              nan, 0.07086614,        nan, 0.42913386,        nan,\n",
       "       0.16141732,        nan, 0.18897638,        nan, 0.16141732,\n",
       "              nan, 0.        ,        nan, 0.        ,        nan,\n",
       "       0.2007874 ,        nan, 0.        ,        nan, 0.        ,\n",
       "              nan, 0.        ,        nan, 0.        ,        nan,\n",
       "       0.        ,        nan, 0.        ,        nan, 0.        ,\n",
       "              nan, 0.        ,        nan, 0.        ,        nan,\n",
       "       0.        ,        nan, 0.14173228,        nan, 0.5984252 ,\n",
       "              nan, 0.01968504,        nan, 0.46850394,        nan,\n",
       "       0.0511811 ,        nan, 0.72047244,        nan, 0.01181102,\n",
       "              nan, 0.12992126,        nan, 1.3503937 ,        nan,\n",
       "       0.14173228,        nan, 0.        ,        nan, 0.        ,\n",
       "              nan, 0.        ,        nan, 0.        ,        nan,\n",
       "       0.03149606,        nan, 0.11811024,        nan, 0.29133858,\n",
       "              nan, 0.        ,        nan, 0.35826772,        nan,\n",
       "       0.38976378,        nan, 0.51181102,        nan, 0.27165354,\n",
       "              nan, 0.        ,        nan, 0.        ,        nan,\n",
       "       0.        ,        nan, 0.        ,        nan, 0.        ,\n",
       "              nan, 0.11023622,        nan, 0.51181102,        nan,\n",
       "       0.11811024,        nan, 0.77165354,        nan, 0.        ,\n",
       "              nan, 0.        ,        nan, 0.81102362,        nan,\n",
       "       0.20866142,        nan, 0.        ,        nan, 0.        ,\n",
       "              nan, 0.12992126,        nan, 0.16141732,        nan,\n",
       "       0.        ,        nan, 0.        ,        nan, 0.        ])"
      ]
     },
     "execution_count": 35,
     "metadata": {},
     "output_type": "execute_result"
    }
   ],
   "source": [
    "# 254 will be broadcasted across the values in inches to get the inche conversion of each data\n",
    "inches = rainfall/254 # 1/10mm =inches\n",
    "inches"
   ]
  },
  {
   "cell_type": "code",
   "execution_count": 36,
   "id": "55f57187",
   "metadata": {},
   "outputs": [],
   "source": [
    "# we can visualize this using histogram\n",
    "import matplotlib.pyplot as plt\n",
    "import seaborn ; seaborn.set()\n",
    "val =pd.notna(inches)\n",
    "# plt.hist(inches[val], 40);"
   ]
  },
  {
   "cell_type": "markdown",
   "id": "953ded5d",
   "metadata": {},
   "source": [
    "working with Boolean Arrays\n"
   ]
  },
  {
   "cell_type": "code",
   "execution_count": 6,
   "id": "c27d4ef2",
   "metadata": {},
   "outputs": [
    {
     "name": "stdout",
     "output_type": "stream",
     "text": [
      "[[0.22777473 0.78528071 0.94390651]\n",
      " [0.09220314 0.95141403 0.9407457 ]\n",
      " [0.93460879 0.08973495 0.28061095]\n",
      " [0.31402942 0.35025505 0.38362968]\n",
      " [0.6087383  0.24083739 0.81491288]\n",
      " [0.0966539  0.50230685 0.08574618]\n",
      " [0.47682334 0.62988355 0.27053793]\n",
      " [0.08289219 0.06687325 0.50165392]\n",
      " [0.74231748 0.36921885 0.04213445]\n",
      " [0.28806104 0.13127714 0.11745642]] \n",
      "\n"
     ]
    },
    {
     "data": {
      "text/plain": [
       "30"
      ]
     },
     "execution_count": 6,
     "metadata": {},
     "output_type": "execute_result"
    }
   ],
   "source": [
    "import numpy as np\n",
    "x = np.random.random((10,3))\n",
    "print(x,\"\\n\")\n",
    "\n",
    "# x = np.random.randint((10,3))\n",
    "# print(x,\"\\n\")\n",
    "\n",
    "# count how many values less than 6\n",
    "np.count_nonzero(x<6)"
   ]
  },
  {
   "cell_type": "code",
   "execution_count": 7,
   "id": "bad685e1",
   "metadata": {},
   "outputs": [
    {
     "data": {
      "text/plain": [
       "30"
      ]
     },
     "execution_count": 7,
     "metadata": {},
     "output_type": "execute_result"
    }
   ],
   "source": [
    "# other method to achieve  above function is using np.sum\n",
    "np.sum(x<6)"
   ]
  },
  {
   "cell_type": "code",
   "execution_count": 8,
   "id": "f7192334",
   "metadata": {},
   "outputs": [
    {
     "data": {
      "text/plain": [
       "array([3, 3, 3, 3, 3, 3, 3, 3, 3, 3])"
      ]
     },
     "execution_count": 8,
     "metadata": {},
     "output_type": "execute_result"
    }
   ],
   "source": [
    "# np.sum can also be used to take aggregate along columns\n",
    "np.sum(x<6, axis=1)"
   ]
  },
  {
   "cell_type": "code",
   "execution_count": 9,
   "id": "7cb15ad9",
   "metadata": {},
   "outputs": [
    {
     "data": {
      "text/plain": [
       "array([10, 10, 10])"
      ]
     },
     "execution_count": 9,
     "metadata": {},
     "output_type": "execute_result"
    }
   ],
   "source": [
    "np.sum(x<6, axis=0)\n"
   ]
  },
  {
   "cell_type": "code",
   "execution_count": 43,
   "id": "7b8435bb",
   "metadata": {},
   "outputs": [
    {
     "data": {
      "text/plain": [
       "False"
      ]
     },
     "execution_count": 43,
     "metadata": {},
     "output_type": "execute_result"
    }
   ],
   "source": [
    "# are there any values greater than 8\n",
    "np.any(x>8)"
   ]
  },
  {
   "cell_type": "code",
   "execution_count": 44,
   "id": "13d6662b",
   "metadata": {},
   "outputs": [
    {
     "data": {
      "text/plain": [
       "False"
      ]
     },
     "execution_count": 44,
     "metadata": {},
     "output_type": "execute_result"
    }
   ],
   "source": [
    "# are there any values less than 0\n",
    "np.any(x<0)"
   ]
  },
  {
   "cell_type": "code",
   "execution_count": 45,
   "id": "9daf749c",
   "metadata": {
    "scrolled": true
   },
   "outputs": [
    {
     "data": {
      "text/plain": [
       "True"
      ]
     },
     "execution_count": 45,
     "metadata": {},
     "output_type": "execute_result"
    }
   ],
   "source": [
    "# are all values less than 8\n",
    "np.all(x<8)"
   ]
  },
  {
   "cell_type": "code",
   "execution_count": 46,
   "id": "cc637e0f",
   "metadata": {},
   "outputs": [
    {
     "data": {
      "text/plain": [
       "False"
      ]
     },
     "execution_count": 46,
     "metadata": {},
     "output_type": "execute_result"
    }
   ],
   "source": [
    "# are all values equal to 6\n",
    "np.all(x==6)"
   ]
  },
  {
   "cell_type": "code",
   "execution_count": 47,
   "id": "c3b596af",
   "metadata": {},
   "outputs": [
    {
     "data": {
      "text/plain": [
       "False"
      ]
     },
     "execution_count": 47,
     "metadata": {},
     "output_type": "execute_result"
    }
   ],
   "source": [
    "# are all values equal to 6 using the np equivalent\n",
    "np.all(np.equal(x, 6))"
   ]
  },
  {
   "cell_type": "code",
   "execution_count": 48,
   "id": "ec799092",
   "metadata": {},
   "outputs": [
    {
     "data": {
      "text/plain": [
       "array([ True,  True,  True,  True,  True,  True,  True,  True,  True,\n",
       "        True])"
      ]
     },
     "execution_count": 48,
     "metadata": {},
     "output_type": "execute_result"
    }
   ],
   "source": [
    "# both np.any and np.all can be applied along row and column\n",
    "# example: are all values in each row less than 8\n",
    "np.all(x<8, axis=1)"
   ]
  },
  {
   "cell_type": "code",
   "execution_count": null,
   "id": "8a4e4637",
   "metadata": {},
   "outputs": [],
   "source": [
    "#Boolean operators with their equvalent np functions\n",
    "\n",
    "#  & == np.bitwise_and\n",
    "#  | == np.bitwise_or\n",
    "#  ^ == np.bitwise_xor\n",
    "#  ~ == np.bitwise_not"
   ]
  },
  {
   "cell_type": "code",
   "execution_count": 49,
   "id": "e3b38dda",
   "metadata": {},
   "outputs": [
    {
     "data": {
      "text/plain": [
       "array([0.        , 0.16141732, 0.05905512, 0.        , 0.        ,\n",
       "       0.01181102, 0.48031496, 0.38188976, 0.22834646, 0.16929134,\n",
       "       0.83858268, 0.05905512, 0.        , 0.        , 0.        ,\n",
       "       0.        , 0.        , 0.        , 0.        , 0.        ,\n",
       "       0.        , 0.01968504, 0.        , 0.        , 0.        ,\n",
       "       0.        , 0.        , 0.3503937 , 0.8503937 , 0.        ,\n",
       "       0.09055118, 0.07874016, 0.        , 0.        , 0.        ,\n",
       "       0.        , 0.        , 0.        , 0.2007874 , 0.01968504,\n",
       "       0.72047244, 0.66929134, 0.18110236, 0.07086614, 0.37007874,\n",
       "       0.46062992, 1.03937008, 0.57086614, 0.5984252 , 0.03937008,\n",
       "       0.11811024, 0.11023622, 0.0984252 , 0.24015748, 0.51181102,\n",
       "       0.01181102, 0.        , 0.        , 0.        , 0.01968504,\n",
       "       0.7519685 , 0.42125984, 0.6496063 , 1.83858268, 0.11811024,\n",
       "       0.        , 1.27165354, 0.16929134, 0.74015748, 0.        ,\n",
       "       0.        , 0.01968504, 0.27165354, 0.31889764, 1.09055118,\n",
       "       0.01181102, 0.        , 0.01968504, 0.        , 0.        ,\n",
       "       0.        , 0.        , 0.        , 0.16141732, 0.14173228,\n",
       "       0.01181102, 0.87007874, 0.5511811 , 0.        , 0.        ,\n",
       "       0.        , 0.        , 0.0984252 , 0.        , 0.18110236,\n",
       "       0.        , 0.        , 0.18110236, 0.        , 0.        ,\n",
       "       0.        , 0.        , 0.        , 0.        , 0.01968504,\n",
       "       0.42913386, 0.72834646, 0.        , 0.53937008, 0.        ,\n",
       "       0.2007874 , 0.55905512, 0.3503937 , 0.48818898, 0.        ,\n",
       "       0.12992126, 0.27165354, 0.        , 0.        , 0.        ,\n",
       "       0.        , 0.        , 1.31102362, 0.62992126, 0.2007874 ,\n",
       "       0.        , 0.        , 0.53937008, 0.07874016, 0.01968504,\n",
       "       0.        , 0.        , 0.        , 0.        , 0.        ,\n",
       "       0.        , 0.        , 0.        , 0.        , 0.        ,\n",
       "       0.        , 0.        , 0.1496063 , 0.        , 0.22047244,\n",
       "       0.        , 0.        , 0.        , 0.        , 0.        ,\n",
       "       0.        , 0.        , 0.        , 0.        , 0.        ,\n",
       "       0.        , 0.        , 0.        , 0.        , 0.        ,\n",
       "       0.        , 0.        , 0.07086614, 0.2519685 , 0.        ,\n",
       "       0.01968504, 0.14173228, 0.0511811 , 0.        , 0.03149606,\n",
       "       0.01181102, 0.        , 0.        , 0.        , 0.        ,\n",
       "       0.        , 0.        , 0.07086614, 0.09055118, 0.        ,\n",
       "       0.        , 0.        , 0.        , 0.        , 0.        ,\n",
       "       0.        , 0.        , 0.        , 0.        , 0.        ,\n",
       "       0.        , 0.        , 0.        , 0.        , 0.        ,\n",
       "       0.        , 0.        , 0.        , 0.        , 0.        ,\n",
       "       0.        , 0.        , 0.01181102, 0.75984252, 0.        ,\n",
       "       0.        , 0.        , 0.        , 0.        , 0.        ,\n",
       "       0.        , 0.        , 0.        , 0.01968504, 0.        ,\n",
       "       0.        , 0.        , 0.        , 0.        , 0.        ,\n",
       "       0.        , 0.        , 0.01968504, 0.5       , 0.8503937 ,\n",
       "       0.        , 0.03937008, 0.        , 0.        , 0.        ,\n",
       "       0.        , 0.        , 0.        , 0.        , 0.        ,\n",
       "       0.        , 0.        , 0.        , 0.        , 0.        ,\n",
       "       0.        , 0.33070866, 0.0511811 , 0.        , 0.11811024,\n",
       "       0.        , 0.        , 0.        , 0.        , 0.        ,\n",
       "       0.        , 0.        , 0.        , 0.        , 0.        ,\n",
       "       0.        , 0.        , 0.        , 0.        , 0.01968504,\n",
       "       0.01181102, 0.        , 0.        , 0.        , 0.01181102,\n",
       "       0.72047244, 0.7992126 , 0.16929134, 0.3503937 , 0.        ,\n",
       "       0.        , 0.03149606, 0.        , 0.        , 0.        ,\n",
       "       0.        , 0.        , 0.        , 0.        , 0.        ,\n",
       "       0.        , 0.        , 0.01181102, 0.29133858, 0.        ,\n",
       "       0.2992126 , 0.27952756, 0.33858268, 0.        , 0.12992126,\n",
       "       0.59055118, 0.        , 0.46062992, 0.03937008, 1.25984252,\n",
       "       0.37007874, 0.16141732, 0.24015748, 0.05905512, 0.03149606,\n",
       "       0.5       , 0.01968504, 1.        , 0.66929134, 0.        ,\n",
       "       0.07086614, 0.42913386, 0.16141732, 0.18897638, 0.16141732,\n",
       "       0.        , 0.        , 0.2007874 , 0.        , 0.        ,\n",
       "       0.        , 0.        , 0.        , 0.        , 0.        ,\n",
       "       0.        , 0.        , 0.        , 0.14173228, 0.5984252 ,\n",
       "       0.01968504, 0.46850394, 0.0511811 , 0.72047244, 0.01181102,\n",
       "       0.12992126, 1.3503937 , 0.14173228, 0.        , 0.        ,\n",
       "       0.        , 0.        , 0.03149606, 0.11811024, 0.29133858,\n",
       "       0.        , 0.35826772, 0.38976378, 0.51181102, 0.27165354,\n",
       "       0.        , 0.        , 0.        , 0.        , 0.        ,\n",
       "       0.11023622, 0.51181102, 0.11811024, 0.77165354, 0.        ,\n",
       "       0.        , 0.81102362, 0.20866142, 0.        , 0.        ,\n",
       "       0.12992126, 0.16141732, 0.        , 0.        , 0.        ])"
      ]
     },
     "execution_count": 49,
     "metadata": {},
     "output_type": "execute_result"
    }
   ],
   "source": [
    "# Using np to extract all the not nan from inches using boolean operators\n",
    "# inches\n",
    "# val = pd.notna(inches)\n",
    "# inches[val]\n",
    "val = np.greater_equal(inches, 0)\n",
    "inches[val]"
   ]
  },
  {
   "cell_type": "code",
   "execution_count": 50,
   "id": "95dd8ebb",
   "metadata": {},
   "outputs": [
    {
     "data": {
      "text/plain": [
       "29"
      ]
     },
     "execution_count": 50,
     "metadata": {},
     "output_type": "execute_result"
    }
   ],
   "source": [
    "# how many days with rainfall do we have between 0.5 and 1 inches\n",
    "np.sum((np.greater(inches[val],0.5)) & (np.less(inches[val],1)))"
   ]
  },
  {
   "cell_type": "code",
   "execution_count": 51,
   "id": "4d02c89f",
   "metadata": {},
   "outputs": [
    {
     "data": {
      "text/plain": [
       "365"
      ]
     },
     "execution_count": 51,
     "metadata": {},
     "output_type": "execute_result"
    }
   ],
   "source": [
    "# how many days with rainfall do we have rainfall greater than 0.5 or less than 1 inches\n",
    "np.sum((inches[val]>0.5) | (inches[val]<1))\n"
   ]
  },
  {
   "cell_type": "code",
   "execution_count": 52,
   "id": "c9fe457a",
   "metadata": {},
   "outputs": [
    {
     "name": "stdout",
     "output_type": "stream",
     "text": [
      "Number of days without rain:  215\n",
      "Number of days with rain:  150\n",
      "Number of days with more than 0.5 inches:  37\n",
      "Number of days with less than 0.1 inches:  46\n"
     ]
    }
   ],
   "source": [
    "print(\"Number of days without rain: \", np.sum(inches[val] == 0))\n",
    "print(\"Number of days with rain: \", np.sum(inches[val] !=0))\n",
    "print(\"Number of days with more than 0.5 inches: \", np.sum(inches[val] >0.5))\n",
    "print(\"Number of days with less than 0.1 inches: \", np.sum((inches[val] >0) & (inches[val]<0.1)))\n"
   ]
  },
  {
   "cell_type": "markdown",
   "id": "5895d135",
   "metadata": {},
   "source": [
    "# Fancy Indexing"
   ]
  },
  {
   "cell_type": "code",
   "execution_count": 56,
   "id": "36875397",
   "metadata": {},
   "outputs": [
    {
     "name": "stdout",
     "output_type": "stream",
     "text": [
      "[51 92 14 71 60 20 82 86 74 74]\n"
     ]
    }
   ],
   "source": [
    "rand = np.random.RandomState(42)\n",
    "# print(rand)\n",
    "x = rand.randint(100, size=10)\n",
    "print(x)"
   ]
  },
  {
   "cell_type": "code",
   "execution_count": 58,
   "id": "fc4ce9e0",
   "metadata": {},
   "outputs": [
    {
     "data": {
      "text/plain": [
       "[71, 86, 14]"
      ]
     },
     "execution_count": 58,
     "metadata": {},
     "output_type": "execute_result"
    }
   ],
   "source": [
    "# suppose we want to access three different elements\n",
    "[x[3], x[7], x[2]]"
   ]
  },
  {
   "cell_type": "code",
   "execution_count": 57,
   "id": "9d79f83c",
   "metadata": {},
   "outputs": [
    {
     "data": {
      "text/plain": [
       "array([71, 86, 14])"
      ]
     },
     "execution_count": 57,
     "metadata": {},
     "output_type": "execute_result"
    }
   ],
   "source": [
    "# alternatively, we can do;\n",
    "ind = [3, 7, 2]\n",
    "x[ind]"
   ]
  },
  {
   "cell_type": "code",
   "execution_count": 59,
   "id": "1956dc89",
   "metadata": {},
   "outputs": [
    {
     "data": {
      "text/plain": [
       "array([[71, 86],\n",
       "       [60, 20]])"
      ]
     },
     "execution_count": 59,
     "metadata": {},
     "output_type": "execute_result"
    }
   ],
   "source": [
    "# to get the extracted array as multindimension array\n",
    "ind = np.array([[3,7],[4,5]]) # this is an array in which each element represent an index in the array\n",
    "x[ind]\n",
    "\n",
    "# ind"
   ]
  },
  {
   "cell_type": "code",
   "execution_count": 60,
   "id": "1e91db97",
   "metadata": {},
   "outputs": [
    {
     "data": {
      "text/plain": [
       "array([[ 0,  1,  2,  3],\n",
       "       [ 4,  5,  6,  7],\n",
       "       [ 8,  9, 10, 11]])"
      ]
     },
     "execution_count": 60,
     "metadata": {},
     "output_type": "execute_result"
    }
   ],
   "source": [
    "# Fancy indenxing for a multidimension array\n",
    "\n",
    "x = np.arange(12).reshape(3,4)\n",
    "x"
   ]
  },
  {
   "cell_type": "code",
   "execution_count": 61,
   "id": "d15b111d",
   "metadata": {},
   "outputs": [
    {
     "data": {
      "text/plain": [
       "array([ 2,  5, 11])"
      ]
     },
     "execution_count": 61,
     "metadata": {},
     "output_type": "execute_result"
    }
   ],
   "source": [
    "# to index multidemension array, use a list of row and column\n",
    "row = np.array([0,1,2])\n",
    "col = np.array([2,1,3])\n",
    "x[row, col] # same as x[0,2]"
   ]
  },
  {
   "cell_type": "code",
   "execution_count": 62,
   "id": "4f3866d3",
   "metadata": {},
   "outputs": [
    {
     "name": "stdout",
     "output_type": "stream",
     "text": [
      "[[0]\n",
      " [1]\n",
      " [2]]\n"
     ]
    },
    {
     "data": {
      "text/plain": [
       "array([[ 2,  1,  3],\n",
       "       [ 6,  5,  7],\n",
       "       [10,  9, 11]])"
      ]
     },
     "execution_count": 62,
     "metadata": {},
     "output_type": "execute_result"
    }
   ],
   "source": [
    "# we can combine a column vector and a row vector within the indices to get a two-dimensionals result\n",
    "print(row[:, np.newaxis])\n",
    "x[row[:, np.newaxis], col]"
   ]
  },
  {
   "cell_type": "code",
   "execution_count": 63,
   "id": "7b73184a",
   "metadata": {},
   "outputs": [
    {
     "data": {
      "text/plain": [
       "array([[0, 0, 0],\n",
       "       [2, 1, 3],\n",
       "       [4, 2, 6]])"
      ]
     },
     "execution_count": 63,
     "metadata": {},
     "output_type": "execute_result"
    }
   ],
   "source": [
    "# it can also be use for broadcasting of array\n",
    "row[:,np.newaxis] * col"
   ]
  },
  {
   "cell_type": "code",
   "execution_count": 64,
   "id": "23170089",
   "metadata": {},
   "outputs": [
    {
     "data": {
      "text/plain": [
       "array([[ 0,  1,  2,  3],\n",
       "       [ 4,  5,  6,  7],\n",
       "       [ 8,  9, 10, 11]])"
      ]
     },
     "execution_count": 64,
     "metadata": {},
     "output_type": "execute_result"
    }
   ],
   "source": [
    "# combining index\n",
    "\n",
    "x"
   ]
  },
  {
   "cell_type": "code",
   "execution_count": 65,
   "id": "2ea10e3f",
   "metadata": {},
   "outputs": [
    {
     "data": {
      "text/plain": [
       "array([0, 1, 2, 3, 4])"
      ]
     },
     "execution_count": 65,
     "metadata": {},
     "output_type": "execute_result"
    }
   ],
   "source": [
    "a = np.arange(5)\n",
    "a"
   ]
  },
  {
   "cell_type": "code",
   "execution_count": 67,
   "id": "06c5d9b6",
   "metadata": {},
   "outputs": [
    {
     "data": {
      "text/plain": [
       "array([0, 0, 2, 0, 0])"
      ]
     },
     "execution_count": 67,
     "metadata": {},
     "output_type": "execute_result"
    }
   ],
   "source": [
    "# we replace index1,3,4 with 0\n",
    "a[[1,3,4]] = 0\n",
    "a"
   ]
  },
  {
   "cell_type": "code",
   "execution_count": 68,
   "id": "03ba0c6b",
   "metadata": {},
   "outputs": [
    {
     "data": {
      "text/plain": [
       "array([0, 1, 2, 3, 4])"
      ]
     },
     "execution_count": 68,
     "metadata": {},
     "output_type": "execute_result"
    }
   ],
   "source": [
    "a = np.arange(5)\n",
    "a"
   ]
  },
  {
   "cell_type": "code",
   "execution_count": 69,
   "id": "90bd00b0",
   "metadata": {},
   "outputs": [
    {
     "data": {
      "text/plain": [
       "array([2, 1, 3, 3, 4])"
      ]
     },
     "execution_count": 69,
     "metadata": {},
     "output_type": "execute_result"
    }
   ],
   "source": [
    "a[[0,0,2]] = [1,2,3]\n",
    "a"
   ]
  },
  {
   "cell_type": "markdown",
   "id": "4342ccce",
   "metadata": {},
   "source": [
    "# Modifying Values of Array with Fancy Indexing\n"
   ]
  },
  {
   "cell_type": "code",
   "execution_count": 70,
   "id": "e0722c1c",
   "metadata": {},
   "outputs": [
    {
     "data": {
      "text/plain": [
       "array([0, 1, 2, 3, 4, 5, 6, 7, 8, 9])"
      ]
     },
     "execution_count": 70,
     "metadata": {},
     "output_type": "execute_result"
    }
   ],
   "source": [
    "val = np.arange(10)\n",
    "val"
   ]
  },
  {
   "cell_type": "code",
   "execution_count": 73,
   "id": "e046895a",
   "metadata": {},
   "outputs": [
    {
     "data": {
      "text/plain": [
       "array([ 0,  1, 20,  3, 20,  5,  6,  7, 20, 20])"
      ]
     },
     "execution_count": 73,
     "metadata": {},
     "output_type": "execute_result"
    }
   ],
   "source": [
    "i = np.array([2,-1,8,4])\n",
    "\n",
    "# change the value at each index to 20\n",
    "val[i] = 20\n",
    "val"
   ]
  },
  {
   "cell_type": "code",
   "execution_count": 74,
   "id": "c98d33f5",
   "metadata": {},
   "outputs": [
    {
     "data": {
      "text/plain": [
       "array([ 0,  1, 10,  3, 10,  5,  6,  7, 10, 10])"
      ]
     },
     "execution_count": 74,
     "metadata": {},
     "output_type": "execute_result"
    }
   ],
   "source": [
    "# You can use any assignment operator for this too\n",
    "val[i] -= 10\n",
    "val"
   ]
  },
  {
   "cell_type": "code",
   "execution_count": null,
   "id": "553fafca",
   "metadata": {},
   "outputs": [],
   "source": []
  },
  {
   "cell_type": "markdown",
   "id": "6df241ab",
   "metadata": {},
   "source": []
  },
  {
   "cell_type": "code",
   "execution_count": null,
   "id": "475b8f98",
   "metadata": {},
   "outputs": [],
   "source": []
  },
  {
   "cell_type": "code",
   "execution_count": null,
   "id": "b308dd07",
   "metadata": {},
   "outputs": [],
   "source": []
  },
  {
   "cell_type": "code",
   "execution_count": null,
   "id": "3f73ba35",
   "metadata": {},
   "outputs": [],
   "source": []
  },
  {
   "cell_type": "code",
   "execution_count": null,
   "id": "31132844",
   "metadata": {},
   "outputs": [],
   "source": []
  },
  {
   "cell_type": "code",
   "execution_count": null,
   "id": "8af1a537",
   "metadata": {},
   "outputs": [],
   "source": []
  },
  {
   "cell_type": "code",
   "execution_count": null,
   "id": "81a6daff",
   "metadata": {},
   "outputs": [],
   "source": []
  },
  {
   "cell_type": "code",
   "execution_count": null,
   "id": "9c6baf31",
   "metadata": {},
   "outputs": [],
   "source": []
  },
  {
   "cell_type": "code",
   "execution_count": null,
   "id": "223e52f7",
   "metadata": {},
   "outputs": [],
   "source": []
  },
  {
   "cell_type": "code",
   "execution_count": null,
   "id": "f4aa23d9",
   "metadata": {},
   "outputs": [],
   "source": []
  },
  {
   "cell_type": "code",
   "execution_count": null,
   "id": "9afad8b6",
   "metadata": {},
   "outputs": [],
   "source": []
  },
  {
   "cell_type": "code",
   "execution_count": null,
   "id": "6cc95df7",
   "metadata": {},
   "outputs": [],
   "source": []
  },
  {
   "cell_type": "code",
   "execution_count": null,
   "id": "ef04a3e4",
   "metadata": {},
   "outputs": [],
   "source": []
  },
  {
   "cell_type": "code",
   "execution_count": null,
   "id": "6055b3c8",
   "metadata": {},
   "outputs": [],
   "source": []
  },
  {
   "cell_type": "code",
   "execution_count": null,
   "id": "2b3d3f15",
   "metadata": {},
   "outputs": [],
   "source": []
  },
  {
   "cell_type": "code",
   "execution_count": null,
   "id": "b79815a8",
   "metadata": {},
   "outputs": [],
   "source": []
  },
  {
   "cell_type": "code",
   "execution_count": null,
   "id": "56857396",
   "metadata": {},
   "outputs": [],
   "source": []
  },
  {
   "cell_type": "code",
   "execution_count": null,
   "id": "d47357b5",
   "metadata": {},
   "outputs": [],
   "source": []
  },
  {
   "cell_type": "code",
   "execution_count": null,
   "id": "051795b3",
   "metadata": {},
   "outputs": [],
   "source": []
  },
  {
   "cell_type": "code",
   "execution_count": null,
   "id": "0b1e31ae",
   "metadata": {},
   "outputs": [],
   "source": []
  },
  {
   "cell_type": "code",
   "execution_count": null,
   "id": "aaf173ca",
   "metadata": {},
   "outputs": [],
   "source": []
  },
  {
   "cell_type": "code",
   "execution_count": null,
   "id": "a37a59f0",
   "metadata": {},
   "outputs": [],
   "source": []
  },
  {
   "cell_type": "code",
   "execution_count": null,
   "id": "5ddf4ac7",
   "metadata": {},
   "outputs": [],
   "source": []
  },
  {
   "cell_type": "code",
   "execution_count": null,
   "id": "241e08ed",
   "metadata": {},
   "outputs": [],
   "source": []
  },
  {
   "cell_type": "code",
   "execution_count": null,
   "id": "ca90ffe0",
   "metadata": {},
   "outputs": [],
   "source": []
  },
  {
   "cell_type": "code",
   "execution_count": null,
   "id": "8f1265ce",
   "metadata": {},
   "outputs": [],
   "source": []
  },
  {
   "cell_type": "code",
   "execution_count": null,
   "id": "dec5b849",
   "metadata": {},
   "outputs": [],
   "source": []
  },
  {
   "cell_type": "code",
   "execution_count": null,
   "id": "87a6c697",
   "metadata": {},
   "outputs": [],
   "source": []
  },
  {
   "cell_type": "code",
   "execution_count": null,
   "id": "e1c422d2",
   "metadata": {},
   "outputs": [],
   "source": []
  },
  {
   "cell_type": "code",
   "execution_count": null,
   "id": "7a354bf8",
   "metadata": {},
   "outputs": [],
   "source": []
  },
  {
   "cell_type": "code",
   "execution_count": null,
   "id": "2b40ff12",
   "metadata": {},
   "outputs": [],
   "source": []
  },
  {
   "cell_type": "code",
   "execution_count": null,
   "id": "9a7d8863",
   "metadata": {},
   "outputs": [],
   "source": []
  },
  {
   "cell_type": "code",
   "execution_count": null,
   "id": "a093af3f",
   "metadata": {},
   "outputs": [],
   "source": []
  },
  {
   "cell_type": "code",
   "execution_count": null,
   "id": "c009d68d",
   "metadata": {},
   "outputs": [],
   "source": []
  },
  {
   "cell_type": "code",
   "execution_count": null,
   "id": "f76c274f",
   "metadata": {},
   "outputs": [],
   "source": []
  },
  {
   "cell_type": "code",
   "execution_count": null,
   "id": "739c9e2d",
   "metadata": {},
   "outputs": [],
   "source": []
  },
  {
   "cell_type": "code",
   "execution_count": null,
   "id": "2f3d8252",
   "metadata": {},
   "outputs": [],
   "source": []
  },
  {
   "cell_type": "code",
   "execution_count": null,
   "id": "91536f5f",
   "metadata": {},
   "outputs": [],
   "source": []
  },
  {
   "cell_type": "code",
   "execution_count": null,
   "id": "0bf836ab",
   "metadata": {},
   "outputs": [],
   "source": []
  },
  {
   "cell_type": "code",
   "execution_count": null,
   "id": "cc05a207",
   "metadata": {},
   "outputs": [],
   "source": []
  },
  {
   "cell_type": "code",
   "execution_count": null,
   "id": "ca9ad60a",
   "metadata": {},
   "outputs": [],
   "source": []
  },
  {
   "cell_type": "code",
   "execution_count": null,
   "id": "a3c4fc5f",
   "metadata": {},
   "outputs": [],
   "source": []
  },
  {
   "cell_type": "code",
   "execution_count": null,
   "id": "404dbc9b",
   "metadata": {},
   "outputs": [],
   "source": []
  },
  {
   "cell_type": "code",
   "execution_count": null,
   "id": "bfb89398",
   "metadata": {},
   "outputs": [],
   "source": []
  }
 ],
 "metadata": {
  "kernelspec": {
   "display_name": "Python 3 (ipykernel)",
   "language": "python",
   "name": "python3"
  },
  "language_info": {
   "codemirror_mode": {
    "name": "ipython",
    "version": 3
   },
   "file_extension": ".py",
   "mimetype": "text/x-python",
   "name": "python",
   "nbconvert_exporter": "python",
   "pygments_lexer": "ipython3",
   "version": "3.11.5"
  }
 },
 "nbformat": 4,
 "nbformat_minor": 5
}
